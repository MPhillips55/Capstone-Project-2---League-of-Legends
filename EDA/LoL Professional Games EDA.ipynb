{
 "cells": [
  {
   "cell_type": "markdown",
   "metadata": {},
   "source": [
    "# League of Legends Professional Games Dataset 2015-2017\n",
    "# EDA\n",
    "# Michael Phillips"
   ]
  },
  {
   "cell_type": "code",
   "execution_count": 1,
   "metadata": {
    "collapsed": true
   },
   "outputs": [],
   "source": [
    "import numpy as np\n",
    "import pandas as pd\n",
    "import matplotlib.pyplot as plt\n",
    "import seaborn as sns\n",
    "pd.set_option('display.max_columns', None)\n",
    "%matplotlib inline"
   ]
  },
  {
   "cell_type": "code",
   "execution_count": 2,
   "metadata": {
    "collapsed": true
   },
   "outputs": [],
   "source": [
    "pk_df = pd.read_csv('player_kda.csv', index_col=0)\n",
    "tk_df = pd.read_csv('team_kda.csv', index_col=0)\n",
    "obj_df = pd.read_csv('object_sums.csv', index_col=0)\n",
    "gen_df = pd.read_csv('merged_df.csv', index_col=0)\n",
    "gm_df = pd.read_csv('gold_diff_merged.csv', index_col=0)\n",
    "gt_df = pd.read_csv('gold_df_merged.csv', index_col=0)"
   ]
  },
  {
   "cell_type": "markdown",
   "metadata": {},
   "source": [
    "## Total Wins, Losses, and Win Percentages"
   ]
  },
  {
   "cell_type": "code",
   "execution_count": 3,
   "metadata": {
    "collapsed": false
   },
   "outputs": [
    {
     "data": {
      "text/html": [
       "<div>\n",
       "<style>\n",
       "    .dataframe thead tr:only-child th {\n",
       "        text-align: right;\n",
       "    }\n",
       "\n",
       "    .dataframe thead th {\n",
       "        text-align: left;\n",
       "    }\n",
       "\n",
       "    .dataframe tbody tr th {\n",
       "        vertical-align: top;\n",
       "    }\n",
       "</style>\n",
       "<table border=\"1\" class=\"dataframe\">\n",
       "  <thead>\n",
       "    <tr style=\"text-align: right;\">\n",
       "      <th></th>\n",
       "      <th>match_id</th>\n",
       "      <th>league</th>\n",
       "      <th>season</th>\n",
       "      <th>year</th>\n",
       "      <th>team_name</th>\n",
       "      <th>red_or_blue_side</th>\n",
       "      <th>result</th>\n",
       "      <th>game_length</th>\n",
       "      <th>top_player</th>\n",
       "      <th>top_champ</th>\n",
       "      <th>jungle_player</th>\n",
       "      <th>jungle_champ</th>\n",
       "      <th>mid_player</th>\n",
       "      <th>mid_champ</th>\n",
       "      <th>adc_player</th>\n",
       "      <th>adc_champ</th>\n",
       "      <th>support_player</th>\n",
       "      <th>support_champ</th>\n",
       "      <th>ban_1</th>\n",
       "      <th>ban_2</th>\n",
       "      <th>ban_3</th>\n",
       "      <th>ban_4</th>\n",
       "      <th>ban_5</th>\n",
       "    </tr>\n",
       "  </thead>\n",
       "  <tbody>\n",
       "    <tr>\n",
       "      <th>0</th>\n",
       "      <td>001a1f289e3bab22</td>\n",
       "      <td>LCK</td>\n",
       "      <td>Summer_Season</td>\n",
       "      <td>2015</td>\n",
       "      <td>ANC</td>\n",
       "      <td>blue</td>\n",
       "      <td>0</td>\n",
       "      <td>38</td>\n",
       "      <td>ikssu</td>\n",
       "      <td>Hecarim</td>\n",
       "      <td>lira</td>\n",
       "      <td>Gragas</td>\n",
       "      <td>Mickey</td>\n",
       "      <td>Vladimir</td>\n",
       "      <td>Sangyoon</td>\n",
       "      <td>Sivir</td>\n",
       "      <td>SnowFlower</td>\n",
       "      <td>Morgana</td>\n",
       "      <td>'Azir'</td>\n",
       "      <td>'Shyvana'</td>\n",
       "      <td>'Jayce'</td>\n",
       "      <td>NaN</td>\n",
       "      <td>NaN</td>\n",
       "    </tr>\n",
       "    <tr>\n",
       "      <th>1</th>\n",
       "      <td>001a1f289e3bab22</td>\n",
       "      <td>LCK</td>\n",
       "      <td>Summer_Season</td>\n",
       "      <td>2015</td>\n",
       "      <td>CJE</td>\n",
       "      <td>red</td>\n",
       "      <td>1</td>\n",
       "      <td>38</td>\n",
       "      <td>Shy</td>\n",
       "      <td>Rumble</td>\n",
       "      <td>Ambition</td>\n",
       "      <td>Sejuani</td>\n",
       "      <td>Coco</td>\n",
       "      <td>Cassiopeia</td>\n",
       "      <td>Space</td>\n",
       "      <td>Jinx</td>\n",
       "      <td>Thresh</td>\n",
       "      <td>MadLife</td>\n",
       "      <td>'Zed'</td>\n",
       "      <td>'Gnar'</td>\n",
       "      <td>'Kalista'</td>\n",
       "      <td>NaN</td>\n",
       "      <td>NaN</td>\n",
       "    </tr>\n",
       "    <tr>\n",
       "      <th>2</th>\n",
       "      <td>001f50c8547e2e73</td>\n",
       "      <td>Season_World_Championship</td>\n",
       "      <td>International</td>\n",
       "      <td>2014</td>\n",
       "      <td>EDG</td>\n",
       "      <td>blue</td>\n",
       "      <td>1</td>\n",
       "      <td>37</td>\n",
       "      <td>Koro1</td>\n",
       "      <td>Maokai</td>\n",
       "      <td>Clearlove</td>\n",
       "      <td>Rengar</td>\n",
       "      <td>U</td>\n",
       "      <td>Zed</td>\n",
       "      <td>NaMei</td>\n",
       "      <td>Twitch</td>\n",
       "      <td>Fzzf</td>\n",
       "      <td>Thresh</td>\n",
       "      <td>'Fizz'</td>\n",
       "      <td>'LeeSin'</td>\n",
       "      <td>'TwistedFate'</td>\n",
       "      <td>NaN</td>\n",
       "      <td>NaN</td>\n",
       "    </tr>\n",
       "    <tr>\n",
       "      <th>3</th>\n",
       "      <td>001f50c8547e2e73</td>\n",
       "      <td>Season_World_Championship</td>\n",
       "      <td>International</td>\n",
       "      <td>2014</td>\n",
       "      <td>AHQ</td>\n",
       "      <td>red</td>\n",
       "      <td>0</td>\n",
       "      <td>37</td>\n",
       "      <td>Prydz</td>\n",
       "      <td>Nidalee</td>\n",
       "      <td>NAZ</td>\n",
       "      <td>Khazix</td>\n",
       "      <td>westdoor</td>\n",
       "      <td>Talon</td>\n",
       "      <td>GarnetDevil</td>\n",
       "      <td>Lucian</td>\n",
       "      <td>Blitzcrank</td>\n",
       "      <td>GreenTea</td>\n",
       "      <td>'Ryze'</td>\n",
       "      <td>'Zilean'</td>\n",
       "      <td>'Alistar'</td>\n",
       "      <td>NaN</td>\n",
       "      <td>NaN</td>\n",
       "    </tr>\n",
       "    <tr>\n",
       "      <th>4</th>\n",
       "      <td>002f613ae09ad421</td>\n",
       "      <td>LMS</td>\n",
       "      <td>Spring_Season</td>\n",
       "      <td>2016</td>\n",
       "      <td>TPA</td>\n",
       "      <td>blue</td>\n",
       "      <td>1</td>\n",
       "      <td>30</td>\n",
       "      <td>Morning</td>\n",
       "      <td>Trundle</td>\n",
       "      <td>REFRA1N</td>\n",
       "      <td>RekSai</td>\n",
       "      <td>FoFo</td>\n",
       "      <td>Lissandra</td>\n",
       "      <td>BeBe</td>\n",
       "      <td>Lucian</td>\n",
       "      <td>Jay</td>\n",
       "      <td>Alistar</td>\n",
       "      <td>'Corki'</td>\n",
       "      <td>'Gangplank'</td>\n",
       "      <td>'TahmKench'</td>\n",
       "      <td>NaN</td>\n",
       "      <td>NaN</td>\n",
       "    </tr>\n",
       "  </tbody>\n",
       "</table>\n",
       "</div>"
      ],
      "text/plain": [
       "           match_id                     league         season  year team_name  \\\n",
       "0  001a1f289e3bab22                        LCK  Summer_Season  2015       ANC   \n",
       "1  001a1f289e3bab22                        LCK  Summer_Season  2015       CJE   \n",
       "2  001f50c8547e2e73  Season_World_Championship  International  2014       EDG   \n",
       "3  001f50c8547e2e73  Season_World_Championship  International  2014       AHQ   \n",
       "4  002f613ae09ad421                        LMS  Spring_Season  2016       TPA   \n",
       "\n",
       "  red_or_blue_side  result  game_length top_player top_champ jungle_player  \\\n",
       "0             blue       0           38      ikssu   Hecarim          lira   \n",
       "1              red       1           38        Shy    Rumble      Ambition   \n",
       "2             blue       1           37      Koro1    Maokai     Clearlove   \n",
       "3              red       0           37      Prydz   Nidalee           NAZ   \n",
       "4             blue       1           30    Morning   Trundle       REFRA1N   \n",
       "\n",
       "  jungle_champ mid_player   mid_champ   adc_player adc_champ support_player  \\\n",
       "0       Gragas     Mickey    Vladimir     Sangyoon     Sivir     SnowFlower   \n",
       "1      Sejuani       Coco  Cassiopeia        Space      Jinx         Thresh   \n",
       "2       Rengar          U         Zed        NaMei    Twitch           Fzzf   \n",
       "3       Khazix   westdoor       Talon  GarnetDevil    Lucian     Blitzcrank   \n",
       "4       RekSai       FoFo   Lissandra         BeBe    Lucian            Jay   \n",
       "\n",
       "  support_champ    ban_1         ban_2           ban_3 ban_4 ban_5  \n",
       "0       Morgana   'Azir'     'Shyvana'         'Jayce'   NaN   NaN  \n",
       "1       MadLife    'Zed'        'Gnar'       'Kalista'   NaN   NaN  \n",
       "2        Thresh   'Fizz'      'LeeSin'   'TwistedFate'   NaN   NaN  \n",
       "3      GreenTea   'Ryze'      'Zilean'       'Alistar'   NaN   NaN  \n",
       "4       Alistar  'Corki'   'Gangplank'     'TahmKench'   NaN   NaN  "
      ]
     },
     "execution_count": 3,
     "metadata": {},
     "output_type": "execute_result"
    }
   ],
   "source": [
    "gen_df.head()"
   ]
  },
  {
   "cell_type": "code",
   "execution_count": 31,
   "metadata": {
    "collapsed": false
   },
   "outputs": [
    {
     "data": {
      "text/html": [
       "<div>\n",
       "<style>\n",
       "    .dataframe thead tr:only-child th {\n",
       "        text-align: right;\n",
       "    }\n",
       "\n",
       "    .dataframe thead th {\n",
       "        text-align: left;\n",
       "    }\n",
       "\n",
       "    .dataframe tbody tr th {\n",
       "        vertical-align: top;\n",
       "    }\n",
       "</style>\n",
       "<table border=\"1\" class=\"dataframe\">\n",
       "  <thead>\n",
       "    <tr style=\"text-align: right;\">\n",
       "      <th></th>\n",
       "      <th>team_name</th>\n",
       "      <th>wins</th>\n",
       "    </tr>\n",
       "  </thead>\n",
       "  <tbody>\n",
       "    <tr>\n",
       "      <th>0</th>\n",
       "      <td>AFs</td>\n",
       "      <td>73</td>\n",
       "    </tr>\n",
       "    <tr>\n",
       "      <th>1</th>\n",
       "      <td>AHQ</td>\n",
       "      <td>13</td>\n",
       "    </tr>\n",
       "    <tr>\n",
       "      <th>2</th>\n",
       "      <td>ALL</td>\n",
       "      <td>3</td>\n",
       "    </tr>\n",
       "    <tr>\n",
       "      <th>3</th>\n",
       "      <td>ANC</td>\n",
       "      <td>17</td>\n",
       "    </tr>\n",
       "    <tr>\n",
       "      <th>4</th>\n",
       "      <td>ANX</td>\n",
       "      <td>4</td>\n",
       "    </tr>\n",
       "  </tbody>\n",
       "</table>\n",
       "</div>"
      ],
      "text/plain": [
       "  team_name  wins\n",
       "0       AFs    73\n",
       "1       AHQ    13\n",
       "2       ALL     3\n",
       "3       ANC    17\n",
       "4       ANX     4"
      ]
     },
     "execution_count": 31,
     "metadata": {},
     "output_type": "execute_result"
    }
   ],
   "source": [
    "results_df = pd.pivot_table(gen_df, index=['team_name'], aggfunc=np.sum)\n",
    "results_df = results_df.reset_index()\n",
    "results_df.drop(['game_length', 'year'], inplace=True, axis=1)\n",
    "results_df = results_df.rename(columns = {'result':'wins'})\n",
    "results_df.head()"
   ]
  },
  {
   "cell_type": "code",
   "execution_count": 47,
   "metadata": {
    "collapsed": false
   },
   "outputs": [
    {
     "data": {
      "text/html": [
       "<div>\n",
       "<style>\n",
       "    .dataframe thead tr:only-child th {\n",
       "        text-align: right;\n",
       "    }\n",
       "\n",
       "    .dataframe thead th {\n",
       "        text-align: left;\n",
       "    }\n",
       "\n",
       "    .dataframe tbody tr th {\n",
       "        vertical-align: top;\n",
       "    }\n",
       "</style>\n",
       "<table border=\"1\" class=\"dataframe\">\n",
       "  <thead>\n",
       "    <tr style=\"text-align: right;\">\n",
       "      <th></th>\n",
       "      <th>team_name</th>\n",
       "      <th>wins</th>\n",
       "      <th>losses</th>\n",
       "      <th>total_games</th>\n",
       "      <th>win_pct</th>\n",
       "    </tr>\n",
       "  </thead>\n",
       "  <tbody>\n",
       "    <tr>\n",
       "      <th>0</th>\n",
       "      <td>AFs</td>\n",
       "      <td>73</td>\n",
       "      <td>77</td>\n",
       "      <td>150</td>\n",
       "      <td>0.486667</td>\n",
       "    </tr>\n",
       "    <tr>\n",
       "      <th>1</th>\n",
       "      <td>AHQ</td>\n",
       "      <td>13</td>\n",
       "      <td>18</td>\n",
       "      <td>31</td>\n",
       "      <td>0.419355</td>\n",
       "    </tr>\n",
       "    <tr>\n",
       "      <th>2</th>\n",
       "      <td>ALL</td>\n",
       "      <td>3</td>\n",
       "      <td>3</td>\n",
       "      <td>6</td>\n",
       "      <td>0.500000</td>\n",
       "    </tr>\n",
       "    <tr>\n",
       "      <th>3</th>\n",
       "      <td>ANC</td>\n",
       "      <td>17</td>\n",
       "      <td>28</td>\n",
       "      <td>45</td>\n",
       "      <td>0.377778</td>\n",
       "    </tr>\n",
       "    <tr>\n",
       "      <th>4</th>\n",
       "      <td>ANX</td>\n",
       "      <td>4</td>\n",
       "      <td>6</td>\n",
       "      <td>10</td>\n",
       "      <td>0.400000</td>\n",
       "    </tr>\n",
       "  </tbody>\n",
       "</table>\n",
       "</div>"
      ],
      "text/plain": [
       "  team_name  wins  losses  total_games   win_pct\n",
       "0       AFs    73      77          150  0.486667\n",
       "1       AHQ    13      18           31  0.419355\n",
       "2       ALL     3       3            6  0.500000\n",
       "3       ANC    17      28           45  0.377778\n",
       "4       ANX     4       6           10  0.400000"
      ]
     },
     "execution_count": 47,
     "metadata": {},
     "output_type": "execute_result"
    }
   ],
   "source": [
    "# count of rows per team, will give total games\n",
    "total_df = pd.pivot_table(gen_df, index=['team_name'], aggfunc='count')\n",
    "total_df = total_df.reset_index()\n",
    "\n",
    "cols = ['team_name', 'result']\n",
    "total_df = total_df[cols]\n",
    "\n",
    "# combine wins, total games df\n",
    "wl_df = pd.merge(results_df, total_df, on='team_name')\n",
    "wl_df = wl_df.rename(columns = {'result':'total_games'})\n",
    "\n",
    "# find losses, win percentage\n",
    "wl_df['losses'] = wl_df.total_games - wl_df.wins\n",
    "wl_df['win_pct'] = wl_df.wins / wl_df.total_games\n",
    "cols = ['team_name', 'wins', 'losses', 'total_games', 'win_pct']\n",
    "wl_df = wl_df[cols]\n",
    "wl_df.head()"
   ]
  },
  {
   "cell_type": "code",
   "execution_count": 103,
   "metadata": {
    "collapsed": false
   },
   "outputs": [
    {
     "data": {
      "image/png": "[encoded data removed]",
      "text/plain": [
       "<matplotlib.figure.Figure at 0x12cc7b9e550>"
      ]
     },
     "metadata": {},
     "output_type": "display_data"
    }
   ],
   "source": [
    "# sort wins for plotting\n",
    "wins_df = wl_df[['team_name', 'wins']]\n",
    "wins_df = wins_df.sort_values(by='wins')\n",
    "wins_df = wins_df.tail(20)\n",
    "\n",
    "# create plot\n",
    "fig, ax = plt.subplots()\n",
    "fig.set_size_inches(12, 10)\n",
    "sns.barplot(x='team_name', y='wins', palette='Blues', data=wins_df);\n",
    "plt.title(\"Top 20 Teams by Wins\",fontsize=20)\n",
    "plt.yticks(fontsize=12)\n",
    "plt.xticks(fontsize=12)\n",
    "plt.xlabel(\"Team Name\", fontsize=14)\n",
    "plt.ylabel(\"Number of Wins\", fontsize=14);"
   ]
  },
  {
   "cell_type": "code",
   "execution_count": 105,
   "metadata": {
    "collapsed": false
   },
   "outputs": [
    {
     "data": {
      "image/png": "[encoded data removed]",
      "text/plain": [
       "<matplotlib.figure.Figure at 0x12cc7a5fef0>"
      ]
     },
     "metadata": {},
     "output_type": "display_data"
    }
   ],
   "source": [
    "# sort losses for plotting\n",
    "loss_df = wl_df[['team_name', 'losses']]\n",
    "loss_df = loss_df.sort_values(by='losses')\n",
    "loss_df = loss_df.tail(20)\n",
    "\n",
    "# create plot\n",
    "# create plot\n",
    "fig, ax = plt.subplots()\n",
    "fig.set_size_inches(12, 10)\n",
    "sns.barplot(x='team_name', y='losses', palette='Reds', data=loss_df);\n",
    "plt.title(\"20 Teams With the Most Losses\",fontsize=20)\n",
    "plt.yticks(fontsize=12)\n",
    "plt.xticks(fontsize=12)\n",
    "plt.xlabel(\"Team Name\", fontsize=14)\n",
    "plt.ylabel(\"Number of Losses\", fontsize=14);"
   ]
  },
  {
   "cell_type": "code",
   "execution_count": 107,
   "metadata": {
    "collapsed": false
   },
   "outputs": [
    {
     "data": {
      "image/png": "[encoded data removed]",
      "text/plain": [
       "<matplotlib.figure.Figure at 0x12cc6d89a20>"
      ]
     },
     "metadata": {},
     "output_type": "display_data"
    }
   ],
   "source": [
    "# sort losses for plotting\n",
    "pct_df = wl_df[['team_name', 'win_pct']]\n",
    "pct_df = pct_df.sort_values(by='win_pct')\n",
    "pct_df = pct_df.tail(20)\n",
    "\n",
    "# create plot\n",
    "fig, ax = plt.subplots()\n",
    "fig.set_size_inches(12, 10)\n",
    "sns.barplot(x='team_name', y='win_pct', palette='Greens', data=pct_df);\n",
    "plt.title(\"Top 20 Teams by Win Percentage\",fontsize=20)\n",
    "plt.yticks(fontsize=12)\n",
    "plt.xticks(fontsize=12)\n",
    "plt.xlabel(\"Team Name\", fontsize=14)\n",
    "plt.ylabel(\"Win Percentage\", fontsize=14);"
   ]
  },
  {
   "cell_type": "code",
   "execution_count": null,
   "metadata": {
    "collapsed": true
   },
   "outputs": [],
   "source": []
  }
 ],
 "metadata": {
  "kernelspec": {
   "display_name": "Python [conda env:py3DataScience]",
   "language": "python",
   "name": "conda-env-py3DataScience-py"
  },
  "language_info": {
   "codemirror_mode": {
    "name": "ipython",
    "version": 3
   },
   "file_extension": ".py",
   "mimetype": "text/x-python",
   "name": "python",
   "nbconvert_exporter": "python",
   "pygments_lexer": "ipython3",
   "version": "3.5.3"
  }
 },
 "nbformat": 4,
 "nbformat_minor": 1
}

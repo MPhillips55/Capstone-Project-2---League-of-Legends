{
 "cells": [
  {
   "cell_type": "markdown",
   "metadata": {
    "collapsed": true
   },
   "source": [
    "# League of Legends Professional Game Data\n",
    "# LSTM Neural Network to Predict Game Wins/Losses\n",
    "## Michael Phillips"
   ]
  },
  {
   "cell_type": "code",
   "execution_count": 1,
   "metadata": {
    "collapsed": false
   },
   "outputs": [
    {
     "name": "stderr",
     "output_type": "stream",
     "text": [
      "Using TensorFlow backend.\n"
     ]
    }
   ],
   "source": [
    "from keras.models import Sequential\n",
    "from keras.layers import Dense, Dropout\n",
    "from keras.layers import LSTM\n",
    "from keras.wrappers.scikit_learn import KerasClassifier\n",
    "from keras.constraints import maxnorm"
   ]
  },
  {
   "cell_type": "code",
   "execution_count": 12,
   "metadata": {
    "collapsed": false
   },
   "outputs": [
    {
     "data": {
      "text/html": [
       "<div>\n",
       "<style>\n",
       "    .dataframe thead tr:only-child th {\n",
       "        text-align: right;\n",
       "    }\n",
       "\n",
       "    .dataframe thead th {\n",
       "        text-align: left;\n",
       "    }\n",
       "\n",
       "    .dataframe tbody tr th {\n",
       "        vertical-align: top;\n",
       "    }\n",
       "</style>\n",
       "<table border=\"1\" class=\"dataframe\">\n",
       "  <thead>\n",
       "    <tr style=\"text-align: right;\">\n",
       "      <th></th>\n",
       "      <th>match_id</th>\n",
       "      <th>time</th>\n",
       "      <th>gold</th>\n",
       "      <th>top_gold</th>\n",
       "      <th>jgl_gold</th>\n",
       "      <th>mid_gold</th>\n",
       "      <th>adc_gold</th>\n",
       "      <th>sup_gold</th>\n",
       "      <th>kill_total</th>\n",
       "      <th>assist_total</th>\n",
       "      <th>opp_kill_total</th>\n",
       "      <th>opp_assist_total</th>\n",
       "      <th>r_inhib_count</th>\n",
       "      <th>r_baron_count</th>\n",
       "      <th>r_tower_count</th>\n",
       "      <th>r_herald_count</th>\n",
       "      <th>r_drag_count</th>\n",
       "      <th>b_inhib_count</th>\n",
       "      <th>b_baron_count</th>\n",
       "      <th>b_tower_count</th>\n",
       "      <th>b_herald_count</th>\n",
       "      <th>b_dragon_count</th>\n",
       "      <th>kda</th>\n",
       "      <th>opp_kda</th>\n",
       "      <th>result</th>\n",
       "    </tr>\n",
       "  </thead>\n",
       "  <tbody>\n",
       "    <tr>\n",
       "      <th>0</th>\n",
       "      <td>001a1f289e3bab22_b</td>\n",
       "      <td>0.0</td>\n",
       "      <td>2415.0</td>\n",
       "      <td>475.0</td>\n",
       "      <td>475.0</td>\n",
       "      <td>475.0</td>\n",
       "      <td>475.0</td>\n",
       "      <td>515.0</td>\n",
       "      <td>0.0</td>\n",
       "      <td>0.0</td>\n",
       "      <td>0.0</td>\n",
       "      <td>0.0</td>\n",
       "      <td>0.0</td>\n",
       "      <td>0.0</td>\n",
       "      <td>0.0</td>\n",
       "      <td>0.0</td>\n",
       "      <td>0.0</td>\n",
       "      <td>0.0</td>\n",
       "      <td>0.0</td>\n",
       "      <td>0.0</td>\n",
       "      <td>0.0</td>\n",
       "      <td>0.0</td>\n",
       "      <td>0.0</td>\n",
       "      <td>0.0</td>\n",
       "      <td>0.0</td>\n",
       "    </tr>\n",
       "    <tr>\n",
       "      <th>1</th>\n",
       "      <td>001a1f289e3bab22_b</td>\n",
       "      <td>1.0</td>\n",
       "      <td>2430.0</td>\n",
       "      <td>475.0</td>\n",
       "      <td>475.0</td>\n",
       "      <td>475.0</td>\n",
       "      <td>475.0</td>\n",
       "      <td>530.0</td>\n",
       "      <td>0.0</td>\n",
       "      <td>0.0</td>\n",
       "      <td>0.0</td>\n",
       "      <td>0.0</td>\n",
       "      <td>0.0</td>\n",
       "      <td>0.0</td>\n",
       "      <td>0.0</td>\n",
       "      <td>0.0</td>\n",
       "      <td>0.0</td>\n",
       "      <td>0.0</td>\n",
       "      <td>0.0</td>\n",
       "      <td>0.0</td>\n",
       "      <td>0.0</td>\n",
       "      <td>0.0</td>\n",
       "      <td>0.0</td>\n",
       "      <td>0.0</td>\n",
       "      <td>0.0</td>\n",
       "    </tr>\n",
       "    <tr>\n",
       "      <th>2</th>\n",
       "      <td>001a1f289e3bab22_b</td>\n",
       "      <td>2.0</td>\n",
       "      <td>2751.0</td>\n",
       "      <td>532.0</td>\n",
       "      <td>552.0</td>\n",
       "      <td>532.0</td>\n",
       "      <td>532.0</td>\n",
       "      <td>603.0</td>\n",
       "      <td>0.0</td>\n",
       "      <td>0.0</td>\n",
       "      <td>0.0</td>\n",
       "      <td>0.0</td>\n",
       "      <td>0.0</td>\n",
       "      <td>0.0</td>\n",
       "      <td>0.0</td>\n",
       "      <td>0.0</td>\n",
       "      <td>0.0</td>\n",
       "      <td>0.0</td>\n",
       "      <td>0.0</td>\n",
       "      <td>0.0</td>\n",
       "      <td>0.0</td>\n",
       "      <td>0.0</td>\n",
       "      <td>0.0</td>\n",
       "      <td>0.0</td>\n",
       "      <td>0.0</td>\n",
       "    </tr>\n",
       "    <tr>\n",
       "      <th>3</th>\n",
       "      <td>001a1f289e3bab22_b</td>\n",
       "      <td>3.0</td>\n",
       "      <td>3929.0</td>\n",
       "      <td>849.0</td>\n",
       "      <td>817.0</td>\n",
       "      <td>791.0</td>\n",
       "      <td>686.0</td>\n",
       "      <td>786.0</td>\n",
       "      <td>0.0</td>\n",
       "      <td>0.0</td>\n",
       "      <td>0.0</td>\n",
       "      <td>0.0</td>\n",
       "      <td>0.0</td>\n",
       "      <td>0.0</td>\n",
       "      <td>0.0</td>\n",
       "      <td>0.0</td>\n",
       "      <td>0.0</td>\n",
       "      <td>0.0</td>\n",
       "      <td>0.0</td>\n",
       "      <td>0.0</td>\n",
       "      <td>0.0</td>\n",
       "      <td>0.0</td>\n",
       "      <td>0.0</td>\n",
       "      <td>0.0</td>\n",
       "      <td>0.0</td>\n",
       "    </tr>\n",
       "    <tr>\n",
       "      <th>4</th>\n",
       "      <td>001a1f289e3bab22_b</td>\n",
       "      <td>4.0</td>\n",
       "      <td>5219.0</td>\n",
       "      <td>1099.0</td>\n",
       "      <td>1099.0</td>\n",
       "      <td>1107.0</td>\n",
       "      <td>976.0</td>\n",
       "      <td>938.0</td>\n",
       "      <td>0.0</td>\n",
       "      <td>0.0</td>\n",
       "      <td>0.0</td>\n",
       "      <td>0.0</td>\n",
       "      <td>0.0</td>\n",
       "      <td>0.0</td>\n",
       "      <td>0.0</td>\n",
       "      <td>0.0</td>\n",
       "      <td>0.0</td>\n",
       "      <td>0.0</td>\n",
       "      <td>0.0</td>\n",
       "      <td>0.0</td>\n",
       "      <td>0.0</td>\n",
       "      <td>0.0</td>\n",
       "      <td>0.0</td>\n",
       "      <td>0.0</td>\n",
       "      <td>0.0</td>\n",
       "    </tr>\n",
       "  </tbody>\n",
       "</table>\n",
       "</div>"
      ],
      "text/plain": [
       "             match_id  time    gold  top_gold  jgl_gold  mid_gold  adc_gold  \\\n",
       "0  001a1f289e3bab22_b   0.0  2415.0     475.0     475.0     475.0     475.0   \n",
       "1  001a1f289e3bab22_b   1.0  2430.0     475.0     475.0     475.0     475.0   \n",
       "2  001a1f289e3bab22_b   2.0  2751.0     532.0     552.0     532.0     532.0   \n",
       "3  001a1f289e3bab22_b   3.0  3929.0     849.0     817.0     791.0     686.0   \n",
       "4  001a1f289e3bab22_b   4.0  5219.0    1099.0    1099.0    1107.0     976.0   \n",
       "\n",
       "   sup_gold  kill_total  assist_total  opp_kill_total  opp_assist_total  \\\n",
       "0     515.0         0.0           0.0             0.0               0.0   \n",
       "1     530.0         0.0           0.0             0.0               0.0   \n",
       "2     603.0         0.0           0.0             0.0               0.0   \n",
       "3     786.0         0.0           0.0             0.0               0.0   \n",
       "4     938.0         0.0           0.0             0.0               0.0   \n",
       "\n",
       "   r_inhib_count  r_baron_count  r_tower_count  r_herald_count  r_drag_count  \\\n",
       "0            0.0            0.0            0.0             0.0           0.0   \n",
       "1            0.0            0.0            0.0             0.0           0.0   \n",
       "2            0.0            0.0            0.0             0.0           0.0   \n",
       "3            0.0            0.0            0.0             0.0           0.0   \n",
       "4            0.0            0.0            0.0             0.0           0.0   \n",
       "\n",
       "   b_inhib_count  b_baron_count  b_tower_count  b_herald_count  \\\n",
       "0            0.0            0.0            0.0             0.0   \n",
       "1            0.0            0.0            0.0             0.0   \n",
       "2            0.0            0.0            0.0             0.0   \n",
       "3            0.0            0.0            0.0             0.0   \n",
       "4            0.0            0.0            0.0             0.0   \n",
       "\n",
       "   b_dragon_count  kda  opp_kda  result  \n",
       "0             0.0  0.0      0.0     0.0  \n",
       "1             0.0  0.0      0.0     0.0  \n",
       "2             0.0  0.0      0.0     0.0  \n",
       "3             0.0  0.0      0.0     0.0  \n",
       "4             0.0  0.0      0.0     0.0  "
      ]
     },
     "execution_count": 12,
     "metadata": {},
     "output_type": "execute_result"
    }
   ],
   "source": [
    "import numpy as np\n",
    "import pandas as pd\n",
    "import matplotlib.pyplot as plt\n",
    "import seaborn as sns\n",
    "pd.set_option('display.max_columns', None)\n",
    "%matplotlib inline\n",
    "\n",
    "df.head()"
   ]
  },
  {
   "cell_type": "code",
   "execution_count": null,
   "metadata": {
    "collapsed": true
   },
   "outputs": [],
   "source": []
  },
  {
   "cell_type": "markdown",
   "metadata": {},
   "source": [
    "Running the following cell will utilize a Python script to take raw game data and return properly formatted arrays suitable for feeding to an LSTM network. \n",
    "\n",
    "The script will take approx. 3 minutes to complete."
   ]
  },
  {
   "cell_type": "code",
   "execution_count": 2,
   "metadata": {
    "collapsed": false
   },
   "outputs": [
    {
     "name": "stdout",
     "output_type": "stream",
     "text": [
      "X_train shape:  (169440, 10, 22)\n",
      "y_train shape:  (169440,)\n",
      "X_test shape:  (42345, 10, 22)\n",
      "y_test shape:  (42345,)\n"
     ]
    }
   ],
   "source": [
    "%run data_formatting.py"
   ]
  },
  {
   "cell_type": "code",
   "execution_count": 13,
   "metadata": {
    "collapsed": true
   },
   "outputs": [],
   "source": [
    "model = Sequential()\n",
    "model.add(Dense(50,batch_input_shape=(4705, X_train[:-64].shape[1],X_train[:-64].shape[2]),\n",
    "               kernel_constraint=maxnorm(1)))\n",
    "model.add(Dropout(0.2))\n",
    "model.add(LSTM(45, stateful=True))\n",
    "model.add(Dense(1,activation='sigmoid'))\n",
    "model.compile(loss='binary_crossentropy',\n",
    "         optimizer='rmsprop',\n",
    "         metrics=['accuracy'])\n",
    "\n",
    "for i in range(55):\n",
    "    model.fit(X_train[:-64], y_train[:-64], batch_size=4705,shuffle=False, epochs=1,verbose=0)\n",
    "    model.reset_states()"
   ]
  },
  {
   "cell_type": "code",
   "execution_count": 14,
   "metadata": {
    "collapsed": false
   },
   "outputs": [
    {
     "data": {
      "text/plain": [
       "[0.62441813945770264, 0.64068958163261414]"
      ]
     },
     "execution_count": 14,
     "metadata": {},
     "output_type": "execute_result"
    }
   ],
   "source": [
    "score = model.evaluate(X_test[:-31], y_test[:-31], verbose=0,batch_size=4705)\n",
    "score"
   ]
  },
  {
   "cell_type": "code",
   "execution_count": 76,
   "metadata": {
    "collapsed": false
   },
   "outputs": [],
   "source": [
    "loss = []\n",
    "acc = []\n",
    "for i in range(50):\n",
    "    history = model.fit(X_train[:-64], y_train[:-64], batch_size=4705,shuffle=False, epochs=1,verbose=0)\n",
    "    loss.append(history.history['loss'])\n",
    "    acc.append(history.history['acc'])\n",
    "    model.reset_states()"
   ]
  },
  {
   "cell_type": "code",
   "execution_count": 77,
   "metadata": {
    "collapsed": false
   },
   "outputs": [
    {
     "data": {
      "text/plain": [
       "[0.84696657127804231, 0.61759357982211638]"
      ]
     },
     "execution_count": 77,
     "metadata": {},
     "output_type": "execute_result"
    }
   ],
   "source": [
    "score = model.evaluate(X_test[:-31], y_test[:-31], verbose=0,batch_size=4705)\n",
    "score"
   ]
  },
  {
   "cell_type": "code",
   "execution_count": 78,
   "metadata": {
    "collapsed": false
   },
   "outputs": [
    {
     "data": {
      "text/plain": [
       "[<matplotlib.lines.Line2D at 0x1b6ea4660b8>]"
      ]
     },
     "execution_count": 78,
     "metadata": {},
     "output_type": "execute_result"
    },
    {
     "data": {
      "image/png": "[encoded data removed]",
      "text/plain": [
       "<matplotlib.figure.Figure at 0x1b6ea397c88>"
      ]
     },
     "metadata": {},
     "output_type": "display_data"
    }
   ],
   "source": [
    "plt.plot(loss)"
   ]
  },
  {
   "cell_type": "code",
   "execution_count": 79,
   "metadata": {
    "collapsed": false
   },
   "outputs": [
    {
     "data": {
      "text/plain": [
       "[<matplotlib.lines.Line2D at 0x1b6ea4cde80>]"
      ]
     },
     "execution_count": 79,
     "metadata": {},
     "output_type": "execute_result"
    },
    {
     "data": {
      "image/png": "[encoded data removed]",
      "text/plain": [
       "<matplotlib.figure.Figure at 0x1b6ea489240>"
      ]
     },
     "metadata": {},
     "output_type": "display_data"
    }
   ],
   "source": [
    "plt.plot(acc)"
   ]
  },
  {
   "cell_type": "code",
   "execution_count": null,
   "metadata": {
    "collapsed": true
   },
   "outputs": [],
   "source": []
  }
 ],
 "metadata": {
  "anaconda-cloud": {},
  "kernelspec": {
   "display_name": "Python [conda env:py3DataScience]",
   "language": "python",
   "name": "conda-env-py3DataScience-py"
  },
  "language_info": {
   "codemirror_mode": {
    "name": "ipython",
    "version": 3
   },
   "file_extension": ".py",
   "mimetype": "text/x-python",
   "name": "python",
   "nbconvert_exporter": "python",
   "pygments_lexer": "ipython3",
   "version": "3.5.3"
  }
 },
 "nbformat": 4,
 "nbformat_minor": 1
}

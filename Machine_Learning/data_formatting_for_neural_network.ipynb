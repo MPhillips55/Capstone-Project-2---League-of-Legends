{
 "cells": [
  {
   "cell_type": "code",
   "execution_count": 1,
   "metadata": {
    "collapsed": true
   },
   "outputs": [],
   "source": [
    "import numpy as np\n",
    "import pandas as pd\n",
    "import matplotlib.pyplot as plt\n",
    "import seaborn as sns\n",
    "pd.set_option('display.max_columns', None)\n",
    "%matplotlib inline"
   ]
  },
  {
   "cell_type": "code",
   "execution_count": 2,
   "metadata": {
    "collapsed": false
   },
   "outputs": [
    {
     "data": {
      "text/html": [
       "<div>\n",
       "<style>\n",
       "    .dataframe thead tr:only-child th {\n",
       "        text-align: right;\n",
       "    }\n",
       "\n",
       "    .dataframe thead th {\n",
       "        text-align: left;\n",
       "    }\n",
       "\n",
       "    .dataframe tbody tr th {\n",
       "        vertical-align: top;\n",
       "    }\n",
       "</style>\n",
       "<table border=\"1\" class=\"dataframe\">\n",
       "  <thead>\n",
       "    <tr style=\"text-align: right;\">\n",
       "      <th></th>\n",
       "      <th>match_id</th>\n",
       "      <th>time</th>\n",
       "      <th>gold</th>\n",
       "      <th>top_gold</th>\n",
       "      <th>jgl_gold</th>\n",
       "      <th>mid_gold</th>\n",
       "      <th>adc_gold</th>\n",
       "      <th>sup_gold</th>\n",
       "      <th>kill_total</th>\n",
       "      <th>assist_total</th>\n",
       "      <th>opp_kill_total</th>\n",
       "      <th>opp_assist_total</th>\n",
       "      <th>r_inhib_count</th>\n",
       "      <th>r_baron_count</th>\n",
       "      <th>r_tower_count</th>\n",
       "      <th>r_herald_count</th>\n",
       "      <th>r_drag_count</th>\n",
       "      <th>b_inhib_count</th>\n",
       "      <th>b_baron_count</th>\n",
       "      <th>b_tower_count</th>\n",
       "      <th>b_herald_count</th>\n",
       "      <th>b_dragon_count</th>\n",
       "      <th>kda</th>\n",
       "      <th>opp_kda</th>\n",
       "      <th>result</th>\n",
       "    </tr>\n",
       "  </thead>\n",
       "  <tbody>\n",
       "    <tr>\n",
       "      <th>0</th>\n",
       "      <td>001a1f289e3bab22_b</td>\n",
       "      <td>0.0</td>\n",
       "      <td>2415.0</td>\n",
       "      <td>475.0</td>\n",
       "      <td>475.0</td>\n",
       "      <td>475.0</td>\n",
       "      <td>475.0</td>\n",
       "      <td>515.0</td>\n",
       "      <td>0.0</td>\n",
       "      <td>0.0</td>\n",
       "      <td>0.0</td>\n",
       "      <td>0.0</td>\n",
       "      <td>0.0</td>\n",
       "      <td>0.0</td>\n",
       "      <td>0.0</td>\n",
       "      <td>0.0</td>\n",
       "      <td>0.0</td>\n",
       "      <td>0.0</td>\n",
       "      <td>0.0</td>\n",
       "      <td>0.0</td>\n",
       "      <td>0.0</td>\n",
       "      <td>0.0</td>\n",
       "      <td>0.00</td>\n",
       "      <td>0.0</td>\n",
       "      <td>0.0</td>\n",
       "    </tr>\n",
       "    <tr>\n",
       "      <th>1</th>\n",
       "      <td>001a1f289e3bab22_b</td>\n",
       "      <td>1.0</td>\n",
       "      <td>2430.0</td>\n",
       "      <td>475.0</td>\n",
       "      <td>475.0</td>\n",
       "      <td>475.0</td>\n",
       "      <td>475.0</td>\n",
       "      <td>530.0</td>\n",
       "      <td>0.0</td>\n",
       "      <td>0.0</td>\n",
       "      <td>0.0</td>\n",
       "      <td>0.0</td>\n",
       "      <td>0.0</td>\n",
       "      <td>0.0</td>\n",
       "      <td>0.0</td>\n",
       "      <td>0.0</td>\n",
       "      <td>0.0</td>\n",
       "      <td>0.0</td>\n",
       "      <td>0.0</td>\n",
       "      <td>0.0</td>\n",
       "      <td>0.0</td>\n",
       "      <td>0.0</td>\n",
       "      <td>0.00</td>\n",
       "      <td>0.0</td>\n",
       "      <td>0.0</td>\n",
       "    </tr>\n",
       "    <tr>\n",
       "      <th>2</th>\n",
       "      <td>001a1f289e3bab22_b</td>\n",
       "      <td>2.0</td>\n",
       "      <td>2751.0</td>\n",
       "      <td>532.0</td>\n",
       "      <td>552.0</td>\n",
       "      <td>532.0</td>\n",
       "      <td>532.0</td>\n",
       "      <td>603.0</td>\n",
       "      <td>0.0</td>\n",
       "      <td>0.0</td>\n",
       "      <td>0.0</td>\n",
       "      <td>0.0</td>\n",
       "      <td>0.0</td>\n",
       "      <td>0.0</td>\n",
       "      <td>0.0</td>\n",
       "      <td>0.0</td>\n",
       "      <td>0.0</td>\n",
       "      <td>0.0</td>\n",
       "      <td>0.0</td>\n",
       "      <td>0.0</td>\n",
       "      <td>0.0</td>\n",
       "      <td>0.0</td>\n",
       "      <td>0.00</td>\n",
       "      <td>0.0</td>\n",
       "      <td>0.0</td>\n",
       "    </tr>\n",
       "    <tr>\n",
       "      <th>3</th>\n",
       "      <td>001a1f289e3bab22_b</td>\n",
       "      <td>3.0</td>\n",
       "      <td>3929.0</td>\n",
       "      <td>849.0</td>\n",
       "      <td>817.0</td>\n",
       "      <td>791.0</td>\n",
       "      <td>686.0</td>\n",
       "      <td>786.0</td>\n",
       "      <td>0.0</td>\n",
       "      <td>0.0</td>\n",
       "      <td>0.0</td>\n",
       "      <td>0.0</td>\n",
       "      <td>0.0</td>\n",
       "      <td>0.0</td>\n",
       "      <td>0.0</td>\n",
       "      <td>0.0</td>\n",
       "      <td>0.0</td>\n",
       "      <td>0.0</td>\n",
       "      <td>0.0</td>\n",
       "      <td>0.0</td>\n",
       "      <td>0.0</td>\n",
       "      <td>0.0</td>\n",
       "      <td>0.00</td>\n",
       "      <td>0.0</td>\n",
       "      <td>0.0</td>\n",
       "    </tr>\n",
       "    <tr>\n",
       "      <th>4</th>\n",
       "      <td>001a1f289e3bab22_b</td>\n",
       "      <td>4.0</td>\n",
       "      <td>5219.0</td>\n",
       "      <td>1099.0</td>\n",
       "      <td>1099.0</td>\n",
       "      <td>1107.0</td>\n",
       "      <td>976.0</td>\n",
       "      <td>938.0</td>\n",
       "      <td>0.0</td>\n",
       "      <td>0.0</td>\n",
       "      <td>0.0</td>\n",
       "      <td>0.0</td>\n",
       "      <td>0.0</td>\n",
       "      <td>0.0</td>\n",
       "      <td>0.0</td>\n",
       "      <td>0.0</td>\n",
       "      <td>0.0</td>\n",
       "      <td>0.0</td>\n",
       "      <td>0.0</td>\n",
       "      <td>0.0</td>\n",
       "      <td>0.0</td>\n",
       "      <td>0.0</td>\n",
       "      <td>0.00</td>\n",
       "      <td>0.0</td>\n",
       "      <td>0.0</td>\n",
       "    </tr>\n",
       "    <tr>\n",
       "      <th>5</th>\n",
       "      <td>001a1f289e3bab22_b</td>\n",
       "      <td>5.0</td>\n",
       "      <td>6418.0</td>\n",
       "      <td>1466.0</td>\n",
       "      <td>1278.0</td>\n",
       "      <td>1352.0</td>\n",
       "      <td>1196.0</td>\n",
       "      <td>1126.0</td>\n",
       "      <td>2.0</td>\n",
       "      <td>1.0</td>\n",
       "      <td>1.0</td>\n",
       "      <td>2.0</td>\n",
       "      <td>0.0</td>\n",
       "      <td>0.0</td>\n",
       "      <td>0.0</td>\n",
       "      <td>0.0</td>\n",
       "      <td>0.0</td>\n",
       "      <td>0.0</td>\n",
       "      <td>0.0</td>\n",
       "      <td>0.0</td>\n",
       "      <td>0.0</td>\n",
       "      <td>0.0</td>\n",
       "      <td>3.00</td>\n",
       "      <td>1.5</td>\n",
       "      <td>0.0</td>\n",
       "    </tr>\n",
       "    <tr>\n",
       "      <th>6</th>\n",
       "      <td>001a1f289e3bab22_b</td>\n",
       "      <td>6.0</td>\n",
       "      <td>8156.0</td>\n",
       "      <td>1667.0</td>\n",
       "      <td>1708.0</td>\n",
       "      <td>1574.0</td>\n",
       "      <td>1687.0</td>\n",
       "      <td>1520.0</td>\n",
       "      <td>2.0</td>\n",
       "      <td>1.0</td>\n",
       "      <td>3.0</td>\n",
       "      <td>4.0</td>\n",
       "      <td>0.0</td>\n",
       "      <td>0.0</td>\n",
       "      <td>0.0</td>\n",
       "      <td>0.0</td>\n",
       "      <td>0.0</td>\n",
       "      <td>0.0</td>\n",
       "      <td>0.0</td>\n",
       "      <td>0.0</td>\n",
       "      <td>0.0</td>\n",
       "      <td>0.0</td>\n",
       "      <td>1.00</td>\n",
       "      <td>3.5</td>\n",
       "      <td>0.0</td>\n",
       "    </tr>\n",
       "    <tr>\n",
       "      <th>7</th>\n",
       "      <td>001a1f289e3bab22_b</td>\n",
       "      <td>7.0</td>\n",
       "      <td>9520.0</td>\n",
       "      <td>1970.0</td>\n",
       "      <td>2097.0</td>\n",
       "      <td>1708.0</td>\n",
       "      <td>1995.0</td>\n",
       "      <td>1750.0</td>\n",
       "      <td>2.0</td>\n",
       "      <td>1.0</td>\n",
       "      <td>3.0</td>\n",
       "      <td>4.0</td>\n",
       "      <td>0.0</td>\n",
       "      <td>0.0</td>\n",
       "      <td>0.0</td>\n",
       "      <td>0.0</td>\n",
       "      <td>0.0</td>\n",
       "      <td>0.0</td>\n",
       "      <td>0.0</td>\n",
       "      <td>0.0</td>\n",
       "      <td>0.0</td>\n",
       "      <td>1.0</td>\n",
       "      <td>1.00</td>\n",
       "      <td>3.5</td>\n",
       "      <td>0.0</td>\n",
       "    </tr>\n",
       "    <tr>\n",
       "      <th>8</th>\n",
       "      <td>001a1f289e3bab22_b</td>\n",
       "      <td>8.0</td>\n",
       "      <td>10681.0</td>\n",
       "      <td>2147.0</td>\n",
       "      <td>2414.0</td>\n",
       "      <td>1988.0</td>\n",
       "      <td>2244.0</td>\n",
       "      <td>1888.0</td>\n",
       "      <td>2.0</td>\n",
       "      <td>1.0</td>\n",
       "      <td>4.0</td>\n",
       "      <td>5.0</td>\n",
       "      <td>0.0</td>\n",
       "      <td>0.0</td>\n",
       "      <td>0.0</td>\n",
       "      <td>0.0</td>\n",
       "      <td>0.0</td>\n",
       "      <td>0.0</td>\n",
       "      <td>0.0</td>\n",
       "      <td>0.0</td>\n",
       "      <td>0.0</td>\n",
       "      <td>1.0</td>\n",
       "      <td>0.75</td>\n",
       "      <td>4.5</td>\n",
       "      <td>0.0</td>\n",
       "    </tr>\n",
       "    <tr>\n",
       "      <th>9</th>\n",
       "      <td>001a1f289e3bab22_b</td>\n",
       "      <td>9.0</td>\n",
       "      <td>12036.0</td>\n",
       "      <td>2605.0</td>\n",
       "      <td>2533.0</td>\n",
       "      <td>2321.0</td>\n",
       "      <td>2535.0</td>\n",
       "      <td>2042.0</td>\n",
       "      <td>2.0</td>\n",
       "      <td>1.0</td>\n",
       "      <td>4.0</td>\n",
       "      <td>5.0</td>\n",
       "      <td>0.0</td>\n",
       "      <td>0.0</td>\n",
       "      <td>0.0</td>\n",
       "      <td>0.0</td>\n",
       "      <td>0.0</td>\n",
       "      <td>0.0</td>\n",
       "      <td>0.0</td>\n",
       "      <td>0.0</td>\n",
       "      <td>0.0</td>\n",
       "      <td>1.0</td>\n",
       "      <td>0.75</td>\n",
       "      <td>4.5</td>\n",
       "      <td>0.0</td>\n",
       "    </tr>\n",
       "  </tbody>\n",
       "</table>\n",
       "</div>"
      ],
      "text/plain": [
       "             match_id  time     gold  top_gold  jgl_gold  mid_gold  adc_gold  \\\n",
       "0  001a1f289e3bab22_b   0.0   2415.0     475.0     475.0     475.0     475.0   \n",
       "1  001a1f289e3bab22_b   1.0   2430.0     475.0     475.0     475.0     475.0   \n",
       "2  001a1f289e3bab22_b   2.0   2751.0     532.0     552.0     532.0     532.0   \n",
       "3  001a1f289e3bab22_b   3.0   3929.0     849.0     817.0     791.0     686.0   \n",
       "4  001a1f289e3bab22_b   4.0   5219.0    1099.0    1099.0    1107.0     976.0   \n",
       "5  001a1f289e3bab22_b   5.0   6418.0    1466.0    1278.0    1352.0    1196.0   \n",
       "6  001a1f289e3bab22_b   6.0   8156.0    1667.0    1708.0    1574.0    1687.0   \n",
       "7  001a1f289e3bab22_b   7.0   9520.0    1970.0    2097.0    1708.0    1995.0   \n",
       "8  001a1f289e3bab22_b   8.0  10681.0    2147.0    2414.0    1988.0    2244.0   \n",
       "9  001a1f289e3bab22_b   9.0  12036.0    2605.0    2533.0    2321.0    2535.0   \n",
       "\n",
       "   sup_gold  kill_total  assist_total  opp_kill_total  opp_assist_total  \\\n",
       "0     515.0         0.0           0.0             0.0               0.0   \n",
       "1     530.0         0.0           0.0             0.0               0.0   \n",
       "2     603.0         0.0           0.0             0.0               0.0   \n",
       "3     786.0         0.0           0.0             0.0               0.0   \n",
       "4     938.0         0.0           0.0             0.0               0.0   \n",
       "5    1126.0         2.0           1.0             1.0               2.0   \n",
       "6    1520.0         2.0           1.0             3.0               4.0   \n",
       "7    1750.0         2.0           1.0             3.0               4.0   \n",
       "8    1888.0         2.0           1.0             4.0               5.0   \n",
       "9    2042.0         2.0           1.0             4.0               5.0   \n",
       "\n",
       "   r_inhib_count  r_baron_count  r_tower_count  r_herald_count  r_drag_count  \\\n",
       "0            0.0            0.0            0.0             0.0           0.0   \n",
       "1            0.0            0.0            0.0             0.0           0.0   \n",
       "2            0.0            0.0            0.0             0.0           0.0   \n",
       "3            0.0            0.0            0.0             0.0           0.0   \n",
       "4            0.0            0.0            0.0             0.0           0.0   \n",
       "5            0.0            0.0            0.0             0.0           0.0   \n",
       "6            0.0            0.0            0.0             0.0           0.0   \n",
       "7            0.0            0.0            0.0             0.0           0.0   \n",
       "8            0.0            0.0            0.0             0.0           0.0   \n",
       "9            0.0            0.0            0.0             0.0           0.0   \n",
       "\n",
       "   b_inhib_count  b_baron_count  b_tower_count  b_herald_count  \\\n",
       "0            0.0            0.0            0.0             0.0   \n",
       "1            0.0            0.0            0.0             0.0   \n",
       "2            0.0            0.0            0.0             0.0   \n",
       "3            0.0            0.0            0.0             0.0   \n",
       "4            0.0            0.0            0.0             0.0   \n",
       "5            0.0            0.0            0.0             0.0   \n",
       "6            0.0            0.0            0.0             0.0   \n",
       "7            0.0            0.0            0.0             0.0   \n",
       "8            0.0            0.0            0.0             0.0   \n",
       "9            0.0            0.0            0.0             0.0   \n",
       "\n",
       "   b_dragon_count   kda  opp_kda  result  \n",
       "0             0.0  0.00      0.0     0.0  \n",
       "1             0.0  0.00      0.0     0.0  \n",
       "2             0.0  0.00      0.0     0.0  \n",
       "3             0.0  0.00      0.0     0.0  \n",
       "4             0.0  0.00      0.0     0.0  \n",
       "5             0.0  3.00      1.5     0.0  \n",
       "6             0.0  1.00      3.5     0.0  \n",
       "7             1.0  1.00      3.5     0.0  \n",
       "8             1.0  0.75      4.5     0.0  \n",
       "9             1.0  0.75      4.5     0.0  "
      ]
     },
     "execution_count": 2,
     "metadata": {},
     "output_type": "execute_result"
    }
   ],
   "source": [
    "df = pd.read_csv('df.csv',index_col=0)\n",
    "df.head(10)"
   ]
  },
  {
   "cell_type": "code",
   "execution_count": 3,
   "metadata": {
    "collapsed": false
   },
   "outputs": [
    {
     "data": {
      "text/plain": [
       "(286908, 25)"
      ]
     },
     "execution_count": 3,
     "metadata": {},
     "output_type": "execute_result"
    }
   ],
   "source": [
    "df.shape"
   ]
  },
  {
   "cell_type": "markdown",
   "metadata": {},
   "source": [
    "## Train/Test Split"
   ]
  },
  {
   "cell_type": "code",
   "execution_count": null,
   "metadata": {
    "collapsed": true
   },
   "outputs": [],
   "source": []
  },
  {
   "cell_type": "code",
   "execution_count": null,
   "metadata": {
    "collapsed": true
   },
   "outputs": [],
   "source": []
  },
  {
   "cell_type": "code",
   "execution_count": null,
   "metadata": {
    "collapsed": true
   },
   "outputs": [],
   "source": []
  },
  {
   "cell_type": "code",
   "execution_count": null,
   "metadata": {
    "collapsed": true
   },
   "outputs": [],
   "source": []
  },
  {
   "cell_type": "code",
   "execution_count": null,
   "metadata": {
    "collapsed": true
   },
   "outputs": [],
   "source": []
  },
  {
   "cell_type": "code",
   "execution_count": null,
   "metadata": {
    "collapsed": true
   },
   "outputs": [],
   "source": []
  },
  {
   "cell_type": "code",
   "execution_count": null,
   "metadata": {
    "collapsed": true
   },
   "outputs": [],
   "source": []
  },
  {
   "cell_type": "markdown",
   "metadata": {},
   "source": [
    "## Scaler\n"
   ]
  },
  {
   "cell_type": "code",
   "execution_count": 43,
   "metadata": {
    "collapsed": false
   },
   "outputs": [
    {
     "data": {
      "text/plain": [
       "StandardScaler(copy=True, with_mean=True, with_std=True)"
      ]
     },
     "execution_count": 43,
     "metadata": {},
     "output_type": "execute_result"
    }
   ],
   "source": [
    "from sklearn.preprocessing import StandardScaler\n",
    "\n",
    "data = dft.iloc[:,2:-1]\n",
    "scaler = StandardScaler()\n",
    "scaler.fit(data)"
   ]
  },
  {
   "cell_type": "code",
   "execution_count": 44,
   "metadata": {
    "collapsed": false
   },
   "outputs": [
    {
     "data": {
      "text/plain": [
       "array([[-1.4932754 , -1.48388166, -1.56653669, ..., -3.13960871,\n",
       "        -1.28401837, -1.28401837],\n",
       "       [-1.49242589, -1.48388166, -1.56653669, ..., -3.13960871,\n",
       "        -1.28401837, -1.28401837],\n",
       "       [-1.47424631, -1.46854742, -1.54193475, ..., -3.13960871,\n",
       "        -1.28401837, -1.28401837],\n",
       "       ..., \n",
       "       [ 1.57646806,  1.39034704,  1.62213069, ...,  0.31851103,\n",
       "         1.96978585, -0.57409745],\n",
       "       [ 1.89248689,  1.63139055,  2.09212365, ...,  0.31851103,\n",
       "         2.22121618, -0.62811317],\n",
       "       [ 1.92918585,  1.64322751,  2.14484209, ...,  0.31851103,\n",
       "         2.22121618, -0.62811317]])"
      ]
     },
     "execution_count": 44,
     "metadata": {},
     "output_type": "execute_result"
    }
   ],
   "source": [
    "scaler.transform(data)"
   ]
  },
  {
   "cell_type": "markdown",
   "metadata": {},
   "source": [
    "## Test process on smaller dataframes"
   ]
  },
  {
   "cell_type": "code",
   "execution_count": 4,
   "metadata": {
    "collapsed": false
   },
   "outputs": [],
   "source": [
    "# this df contains 2 games worth of rows\n",
    "dft = df.head(76).copy()"
   ]
  },
  {
   "cell_type": "code",
   "execution_count": 5,
   "metadata": {
    "collapsed": false
   },
   "outputs": [],
   "source": [
    "# this df contains 1 game worth of rows\n",
    "dfs = df.head(38).copy()"
   ]
  },
  {
   "cell_type": "code",
   "execution_count": 25,
   "metadata": {
    "collapsed": true
   },
   "outputs": [],
   "source": [
    "def parse_game(grp):\n",
    "    \"\"\"Inputs are 1. a groupby group object\n",
    "    Output is a list of 3d arrays, each element contains 10 rows (which are equivalent to minutes \n",
    "       for this dataset). The function tracks the length of each group and stops at length minus 1. \n",
    "       After a group is finished the function performs the same process on the next group.\n",
    "    \"\"\"  \n",
    "    t = 10\n",
    "    start = 0\n",
    "   \n",
    "    length = len(grp)\n",
    "\n",
    "    while t < length:\n",
    "        \n",
    "        # take a 10 row chunk and convert it to array\n",
    "        \n",
    "        data = grp.iloc[:,2:][start:t].values\n",
    "   \n",
    "        df_list.append(data)\n",
    "        result_list.append(grp.iloc[:,-1:][start:t].values)\n",
    "        \n",
    "        # stop when t reaches length - 1\n",
    "        start += 1\n",
    "        t += 1\n",
    "    \n",
    "    return df_list  "
   ]
  },
  {
   "cell_type": "code",
   "execution_count": 26,
   "metadata": {
    "collapsed": false
   },
   "outputs": [
    {
     "data": {
      "text/plain": [
       "match_id\n",
       "001a1f289e3bab22_b    [[[2415.0, 475.0, 475.0, 475.0, 475.0, 515.0, ...\n",
       "001a1f289e3bab22_r    [[[2415.0, 475.0, 475.0, 475.0, 475.0, 515.0, ...\n",
       "dtype: object"
      ]
     },
     "execution_count": 26,
     "metadata": {},
     "output_type": "execute_result"
    }
   ],
   "source": [
    "df_list = []\n",
    "result_list = []\n",
    "\n",
    "gb = dft.groupby('match_id')\n",
    "\n",
    "gb.apply(lambda group: parse_game(group))"
   ]
  },
  {
   "cell_type": "code",
   "execution_count": 24,
   "metadata": {
    "collapsed": false
   },
   "outputs": [
    {
     "name": "stdout",
     "output_type": "stream",
     "text": [
      "84\n"
     ]
    }
   ],
   "source": [
    "print(len(result_list))\n",
    "length_res = len(result_list)\n",
    "array_res = np.array(result_list)\n",
    "array_res = array_res.reshape(length,10,1)"
   ]
  },
  {
   "cell_type": "code",
   "execution_count": 21,
   "metadata": {
    "collapsed": false
   },
   "outputs": [
    {
     "name": "stdout",
     "output_type": "stream",
     "text": [
      "84\n"
     ]
    },
    {
     "data": {
      "text/plain": [
       "array([[[  2.41500000e+03,   4.75000000e+02,   4.75000000e+02, ...,\n",
       "           0.00000000e+00,   0.00000000e+00,   0.00000000e+00],\n",
       "        [  2.43000000e+03,   4.75000000e+02,   4.75000000e+02, ...,\n",
       "           0.00000000e+00,   0.00000000e+00,   0.00000000e+00],\n",
       "        [  2.75100000e+03,   5.32000000e+02,   5.52000000e+02, ...,\n",
       "           0.00000000e+00,   0.00000000e+00,   0.00000000e+00],\n",
       "        ..., \n",
       "        [  9.52000000e+03,   1.97000000e+03,   2.09700000e+03, ...,\n",
       "           1.00000000e+00,   3.50000000e+00,   0.00000000e+00],\n",
       "        [  1.06810000e+04,   2.14700000e+03,   2.41400000e+03, ...,\n",
       "           7.50000000e-01,   4.50000000e+00,   0.00000000e+00],\n",
       "        [  1.20360000e+04,   2.60500000e+03,   2.53300000e+03, ...,\n",
       "           7.50000000e-01,   4.50000000e+00,   0.00000000e+00]],\n",
       "\n",
       "       [[  2.43000000e+03,   4.75000000e+02,   4.75000000e+02, ...,\n",
       "           0.00000000e+00,   0.00000000e+00,   0.00000000e+00],\n",
       "        [  2.75100000e+03,   5.32000000e+02,   5.52000000e+02, ...,\n",
       "           0.00000000e+00,   0.00000000e+00,   0.00000000e+00],\n",
       "        [  3.92900000e+03,   8.49000000e+02,   8.17000000e+02, ...,\n",
       "           0.00000000e+00,   0.00000000e+00,   0.00000000e+00],\n",
       "        ..., \n",
       "        [  1.06810000e+04,   2.14700000e+03,   2.41400000e+03, ...,\n",
       "           7.50000000e-01,   4.50000000e+00,   0.00000000e+00],\n",
       "        [  1.20360000e+04,   2.60500000e+03,   2.53300000e+03, ...,\n",
       "           7.50000000e-01,   4.50000000e+00,   0.00000000e+00],\n",
       "        [  1.36780000e+04,   2.96100000e+03,   2.93800000e+03, ...,\n",
       "           1.50000000e+00,   3.00000000e+00,   0.00000000e+00]],\n",
       "\n",
       "       [[  2.75100000e+03,   5.32000000e+02,   5.52000000e+02, ...,\n",
       "           0.00000000e+00,   0.00000000e+00,   0.00000000e+00],\n",
       "        [  3.92900000e+03,   8.49000000e+02,   8.17000000e+02, ...,\n",
       "           0.00000000e+00,   0.00000000e+00,   0.00000000e+00],\n",
       "        [  5.21900000e+03,   1.09900000e+03,   1.09900000e+03, ...,\n",
       "           0.00000000e+00,   0.00000000e+00,   0.00000000e+00],\n",
       "        ..., \n",
       "        [  1.20360000e+04,   2.60500000e+03,   2.53300000e+03, ...,\n",
       "           7.50000000e-01,   4.50000000e+00,   0.00000000e+00],\n",
       "        [  1.36780000e+04,   2.96100000e+03,   2.93800000e+03, ...,\n",
       "           1.50000000e+00,   3.00000000e+00,   0.00000000e+00],\n",
       "        [  1.55900000e+04,   3.27700000e+03,   3.33700000e+03, ...,\n",
       "           1.50000000e+00,   3.00000000e+00,   0.00000000e+00]],\n",
       "\n",
       "       ..., \n",
       "       [[  4.03310000e+04,   7.69000000e+03,   7.86200000e+03, ...,\n",
       "           4.83333333e+00,   1.72727273e+00,   1.00000000e+00],\n",
       "        [  4.16520000e+04,   7.97400000e+03,   8.00600000e+03, ...,\n",
       "           4.14285714e+00,   2.09090909e+00,   1.00000000e+00],\n",
       "        [  4.42390000e+04,   8.68300000e+03,   8.35200000e+03, ...,\n",
       "           5.12500000e+00,   2.00000000e+00,   1.00000000e+00],\n",
       "        ..., \n",
       "        [  5.25860000e+04,   1.02710000e+04,   9.55600000e+03, ...,\n",
       "           5.77777778e+00,   1.88235294e+00,   1.00000000e+00],\n",
       "        [  5.33740000e+04,   1.04790000e+04,   9.75500000e+03, ...,\n",
       "           5.77777778e+00,   1.88235294e+00,   1.00000000e+00],\n",
       "        [  5.52450000e+04,   1.08670000e+04,   1.02060000e+04, ...,\n",
       "           5.77777778e+00,   1.88235294e+00,   1.00000000e+00]],\n",
       "\n",
       "       [[  4.16520000e+04,   7.97400000e+03,   8.00600000e+03, ...,\n",
       "           4.14285714e+00,   2.09090909e+00,   1.00000000e+00],\n",
       "        [  4.42390000e+04,   8.68300000e+03,   8.35200000e+03, ...,\n",
       "           5.12500000e+00,   2.00000000e+00,   1.00000000e+00],\n",
       "        [  4.59480000e+04,   9.20400000e+03,   8.65600000e+03, ...,\n",
       "           5.12500000e+00,   2.00000000e+00,   1.00000000e+00],\n",
       "        ..., \n",
       "        [  5.33740000e+04,   1.04790000e+04,   9.75500000e+03, ...,\n",
       "           5.77777778e+00,   1.88235294e+00,   1.00000000e+00],\n",
       "        [  5.52450000e+04,   1.08670000e+04,   1.02060000e+04, ...,\n",
       "           5.77777778e+00,   1.88235294e+00,   1.00000000e+00],\n",
       "        [  5.66180000e+04,   1.11590000e+04,   1.04550000e+04, ...,\n",
       "           7.33333333e+00,   1.60000000e+00,   1.00000000e+00]],\n",
       "\n",
       "       [[  4.42390000e+04,   8.68300000e+03,   8.35200000e+03, ...,\n",
       "           5.12500000e+00,   2.00000000e+00,   1.00000000e+00],\n",
       "        [  4.59480000e+04,   9.20400000e+03,   8.65600000e+03, ...,\n",
       "           5.12500000e+00,   2.00000000e+00,   1.00000000e+00],\n",
       "        [  4.71340000e+04,   9.53300000e+03,   8.80000000e+03, ...,\n",
       "           5.12500000e+00,   2.00000000e+00,   1.00000000e+00],\n",
       "        ..., \n",
       "        [  5.52450000e+04,   1.08670000e+04,   1.02060000e+04, ...,\n",
       "           5.77777778e+00,   1.88235294e+00,   1.00000000e+00],\n",
       "        [  5.66180000e+04,   1.11590000e+04,   1.04550000e+04, ...,\n",
       "           7.33333333e+00,   1.60000000e+00,   1.00000000e+00],\n",
       "        [  6.21980000e+04,   1.20550000e+04,   1.19260000e+04, ...,\n",
       "           7.90000000e+00,   1.47826087e+00,   1.00000000e+00]]])"
      ]
     },
     "execution_count": 21,
     "metadata": {},
     "output_type": "execute_result"
    }
   ],
   "source": [
    "length = len(df_list)\n",
    "print(length)\n",
    "array_a = np.array(df_list)\n",
    "array_a = array_a.reshape((length,10,23))\n",
    "array_a"
   ]
  },
  {
   "cell_type": "code",
   "execution_count": null,
   "metadata": {
    "collapsed": true
   },
   "outputs": [],
   "source": []
  },
  {
   "cell_type": "code",
   "execution_count": null,
   "metadata": {
    "collapsed": true
   },
   "outputs": [],
   "source": []
  }
 ],
 "metadata": {
  "anaconda-cloud": {},
  "kernelspec": {
   "display_name": "Python [conda env:py3DataScience]",
   "language": "python",
   "name": "conda-env-py3DataScience-py"
  },
  "language_info": {
   "codemirror_mode": {
    "name": "ipython",
    "version": 3
   },
   "file_extension": ".py",
   "mimetype": "text/x-python",
   "name": "python",
   "nbconvert_exporter": "python",
   "pygments_lexer": "ipython3",
   "version": "3.5.3"
  }
 },
 "nbformat": 4,
 "nbformat_minor": 1
}

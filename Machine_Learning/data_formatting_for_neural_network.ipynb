{
 "cells": [
  {
   "cell_type": "markdown",
   "metadata": {},
   "source": [
    "# Data Formatting and Neural Network Explorations\n",
    "## Keras, scikit-learn, Pandas, Numpy"
   ]
  },
  {
   "cell_type": "code",
   "execution_count": 1,
   "metadata": {
    "collapsed": true
   },
   "outputs": [],
   "source": [
    "import numpy as np\n",
    "import pandas as pd\n",
    "import matplotlib.pyplot as plt\n",
    "import seaborn as sns\n",
    "pd.set_option('display.max_columns', None)\n",
    "%matplotlib inline"
   ]
  },
  {
   "cell_type": "code",
   "execution_count": 2,
   "metadata": {
    "collapsed": false
   },
   "outputs": [
    {
     "data": {
      "text/html": [
       "<div>\n",
       "<style>\n",
       "    .dataframe thead tr:only-child th {\n",
       "        text-align: right;\n",
       "    }\n",
       "\n",
       "    .dataframe thead th {\n",
       "        text-align: left;\n",
       "    }\n",
       "\n",
       "    .dataframe tbody tr th {\n",
       "        vertical-align: top;\n",
       "    }\n",
       "</style>\n",
       "<table border=\"1\" class=\"dataframe\">\n",
       "  <thead>\n",
       "    <tr style=\"text-align: right;\">\n",
       "      <th></th>\n",
       "      <th>match_id</th>\n",
       "      <th>time</th>\n",
       "      <th>gold</th>\n",
       "      <th>top_gold</th>\n",
       "      <th>jgl_gold</th>\n",
       "      <th>mid_gold</th>\n",
       "      <th>adc_gold</th>\n",
       "      <th>sup_gold</th>\n",
       "      <th>kill_total</th>\n",
       "      <th>assist_total</th>\n",
       "      <th>opp_kill_total</th>\n",
       "      <th>opp_assist_total</th>\n",
       "      <th>r_inhib_count</th>\n",
       "      <th>r_baron_count</th>\n",
       "      <th>r_tower_count</th>\n",
       "      <th>r_herald_count</th>\n",
       "      <th>r_drag_count</th>\n",
       "      <th>b_inhib_count</th>\n",
       "      <th>b_baron_count</th>\n",
       "      <th>b_tower_count</th>\n",
       "      <th>b_herald_count</th>\n",
       "      <th>b_dragon_count</th>\n",
       "      <th>kda</th>\n",
       "      <th>opp_kda</th>\n",
       "      <th>result</th>\n",
       "    </tr>\n",
       "  </thead>\n",
       "  <tbody>\n",
       "    <tr>\n",
       "      <th>0</th>\n",
       "      <td>001a1f289e3bab22_b</td>\n",
       "      <td>0.0</td>\n",
       "      <td>2415.0</td>\n",
       "      <td>475.0</td>\n",
       "      <td>475.0</td>\n",
       "      <td>475.0</td>\n",
       "      <td>475.0</td>\n",
       "      <td>515.0</td>\n",
       "      <td>0.0</td>\n",
       "      <td>0.0</td>\n",
       "      <td>0.0</td>\n",
       "      <td>0.0</td>\n",
       "      <td>0.0</td>\n",
       "      <td>0.0</td>\n",
       "      <td>0.0</td>\n",
       "      <td>0.0</td>\n",
       "      <td>0.0</td>\n",
       "      <td>0.0</td>\n",
       "      <td>0.0</td>\n",
       "      <td>0.0</td>\n",
       "      <td>0.0</td>\n",
       "      <td>0.0</td>\n",
       "      <td>0.00</td>\n",
       "      <td>0.0</td>\n",
       "      <td>0.0</td>\n",
       "    </tr>\n",
       "    <tr>\n",
       "      <th>1</th>\n",
       "      <td>001a1f289e3bab22_b</td>\n",
       "      <td>1.0</td>\n",
       "      <td>2430.0</td>\n",
       "      <td>475.0</td>\n",
       "      <td>475.0</td>\n",
       "      <td>475.0</td>\n",
       "      <td>475.0</td>\n",
       "      <td>530.0</td>\n",
       "      <td>0.0</td>\n",
       "      <td>0.0</td>\n",
       "      <td>0.0</td>\n",
       "      <td>0.0</td>\n",
       "      <td>0.0</td>\n",
       "      <td>0.0</td>\n",
       "      <td>0.0</td>\n",
       "      <td>0.0</td>\n",
       "      <td>0.0</td>\n",
       "      <td>0.0</td>\n",
       "      <td>0.0</td>\n",
       "      <td>0.0</td>\n",
       "      <td>0.0</td>\n",
       "      <td>0.0</td>\n",
       "      <td>0.00</td>\n",
       "      <td>0.0</td>\n",
       "      <td>0.0</td>\n",
       "    </tr>\n",
       "    <tr>\n",
       "      <th>2</th>\n",
       "      <td>001a1f289e3bab22_b</td>\n",
       "      <td>2.0</td>\n",
       "      <td>2751.0</td>\n",
       "      <td>532.0</td>\n",
       "      <td>552.0</td>\n",
       "      <td>532.0</td>\n",
       "      <td>532.0</td>\n",
       "      <td>603.0</td>\n",
       "      <td>0.0</td>\n",
       "      <td>0.0</td>\n",
       "      <td>0.0</td>\n",
       "      <td>0.0</td>\n",
       "      <td>0.0</td>\n",
       "      <td>0.0</td>\n",
       "      <td>0.0</td>\n",
       "      <td>0.0</td>\n",
       "      <td>0.0</td>\n",
       "      <td>0.0</td>\n",
       "      <td>0.0</td>\n",
       "      <td>0.0</td>\n",
       "      <td>0.0</td>\n",
       "      <td>0.0</td>\n",
       "      <td>0.00</td>\n",
       "      <td>0.0</td>\n",
       "      <td>0.0</td>\n",
       "    </tr>\n",
       "    <tr>\n",
       "      <th>3</th>\n",
       "      <td>001a1f289e3bab22_b</td>\n",
       "      <td>3.0</td>\n",
       "      <td>3929.0</td>\n",
       "      <td>849.0</td>\n",
       "      <td>817.0</td>\n",
       "      <td>791.0</td>\n",
       "      <td>686.0</td>\n",
       "      <td>786.0</td>\n",
       "      <td>0.0</td>\n",
       "      <td>0.0</td>\n",
       "      <td>0.0</td>\n",
       "      <td>0.0</td>\n",
       "      <td>0.0</td>\n",
       "      <td>0.0</td>\n",
       "      <td>0.0</td>\n",
       "      <td>0.0</td>\n",
       "      <td>0.0</td>\n",
       "      <td>0.0</td>\n",
       "      <td>0.0</td>\n",
       "      <td>0.0</td>\n",
       "      <td>0.0</td>\n",
       "      <td>0.0</td>\n",
       "      <td>0.00</td>\n",
       "      <td>0.0</td>\n",
       "      <td>0.0</td>\n",
       "    </tr>\n",
       "    <tr>\n",
       "      <th>4</th>\n",
       "      <td>001a1f289e3bab22_b</td>\n",
       "      <td>4.0</td>\n",
       "      <td>5219.0</td>\n",
       "      <td>1099.0</td>\n",
       "      <td>1099.0</td>\n",
       "      <td>1107.0</td>\n",
       "      <td>976.0</td>\n",
       "      <td>938.0</td>\n",
       "      <td>0.0</td>\n",
       "      <td>0.0</td>\n",
       "      <td>0.0</td>\n",
       "      <td>0.0</td>\n",
       "      <td>0.0</td>\n",
       "      <td>0.0</td>\n",
       "      <td>0.0</td>\n",
       "      <td>0.0</td>\n",
       "      <td>0.0</td>\n",
       "      <td>0.0</td>\n",
       "      <td>0.0</td>\n",
       "      <td>0.0</td>\n",
       "      <td>0.0</td>\n",
       "      <td>0.0</td>\n",
       "      <td>0.00</td>\n",
       "      <td>0.0</td>\n",
       "      <td>0.0</td>\n",
       "    </tr>\n",
       "    <tr>\n",
       "      <th>5</th>\n",
       "      <td>001a1f289e3bab22_b</td>\n",
       "      <td>5.0</td>\n",
       "      <td>6418.0</td>\n",
       "      <td>1466.0</td>\n",
       "      <td>1278.0</td>\n",
       "      <td>1352.0</td>\n",
       "      <td>1196.0</td>\n",
       "      <td>1126.0</td>\n",
       "      <td>2.0</td>\n",
       "      <td>1.0</td>\n",
       "      <td>1.0</td>\n",
       "      <td>2.0</td>\n",
       "      <td>0.0</td>\n",
       "      <td>0.0</td>\n",
       "      <td>0.0</td>\n",
       "      <td>0.0</td>\n",
       "      <td>0.0</td>\n",
       "      <td>0.0</td>\n",
       "      <td>0.0</td>\n",
       "      <td>0.0</td>\n",
       "      <td>0.0</td>\n",
       "      <td>0.0</td>\n",
       "      <td>3.00</td>\n",
       "      <td>1.5</td>\n",
       "      <td>0.0</td>\n",
       "    </tr>\n",
       "    <tr>\n",
       "      <th>6</th>\n",
       "      <td>001a1f289e3bab22_b</td>\n",
       "      <td>6.0</td>\n",
       "      <td>8156.0</td>\n",
       "      <td>1667.0</td>\n",
       "      <td>1708.0</td>\n",
       "      <td>1574.0</td>\n",
       "      <td>1687.0</td>\n",
       "      <td>1520.0</td>\n",
       "      <td>2.0</td>\n",
       "      <td>1.0</td>\n",
       "      <td>3.0</td>\n",
       "      <td>4.0</td>\n",
       "      <td>0.0</td>\n",
       "      <td>0.0</td>\n",
       "      <td>0.0</td>\n",
       "      <td>0.0</td>\n",
       "      <td>0.0</td>\n",
       "      <td>0.0</td>\n",
       "      <td>0.0</td>\n",
       "      <td>0.0</td>\n",
       "      <td>0.0</td>\n",
       "      <td>0.0</td>\n",
       "      <td>1.00</td>\n",
       "      <td>3.5</td>\n",
       "      <td>0.0</td>\n",
       "    </tr>\n",
       "    <tr>\n",
       "      <th>7</th>\n",
       "      <td>001a1f289e3bab22_b</td>\n",
       "      <td>7.0</td>\n",
       "      <td>9520.0</td>\n",
       "      <td>1970.0</td>\n",
       "      <td>2097.0</td>\n",
       "      <td>1708.0</td>\n",
       "      <td>1995.0</td>\n",
       "      <td>1750.0</td>\n",
       "      <td>2.0</td>\n",
       "      <td>1.0</td>\n",
       "      <td>3.0</td>\n",
       "      <td>4.0</td>\n",
       "      <td>0.0</td>\n",
       "      <td>0.0</td>\n",
       "      <td>0.0</td>\n",
       "      <td>0.0</td>\n",
       "      <td>0.0</td>\n",
       "      <td>0.0</td>\n",
       "      <td>0.0</td>\n",
       "      <td>0.0</td>\n",
       "      <td>0.0</td>\n",
       "      <td>1.0</td>\n",
       "      <td>1.00</td>\n",
       "      <td>3.5</td>\n",
       "      <td>0.0</td>\n",
       "    </tr>\n",
       "    <tr>\n",
       "      <th>8</th>\n",
       "      <td>001a1f289e3bab22_b</td>\n",
       "      <td>8.0</td>\n",
       "      <td>10681.0</td>\n",
       "      <td>2147.0</td>\n",
       "      <td>2414.0</td>\n",
       "      <td>1988.0</td>\n",
       "      <td>2244.0</td>\n",
       "      <td>1888.0</td>\n",
       "      <td>2.0</td>\n",
       "      <td>1.0</td>\n",
       "      <td>4.0</td>\n",
       "      <td>5.0</td>\n",
       "      <td>0.0</td>\n",
       "      <td>0.0</td>\n",
       "      <td>0.0</td>\n",
       "      <td>0.0</td>\n",
       "      <td>0.0</td>\n",
       "      <td>0.0</td>\n",
       "      <td>0.0</td>\n",
       "      <td>0.0</td>\n",
       "      <td>0.0</td>\n",
       "      <td>1.0</td>\n",
       "      <td>0.75</td>\n",
       "      <td>4.5</td>\n",
       "      <td>0.0</td>\n",
       "    </tr>\n",
       "    <tr>\n",
       "      <th>9</th>\n",
       "      <td>001a1f289e3bab22_b</td>\n",
       "      <td>9.0</td>\n",
       "      <td>12036.0</td>\n",
       "      <td>2605.0</td>\n",
       "      <td>2533.0</td>\n",
       "      <td>2321.0</td>\n",
       "      <td>2535.0</td>\n",
       "      <td>2042.0</td>\n",
       "      <td>2.0</td>\n",
       "      <td>1.0</td>\n",
       "      <td>4.0</td>\n",
       "      <td>5.0</td>\n",
       "      <td>0.0</td>\n",
       "      <td>0.0</td>\n",
       "      <td>0.0</td>\n",
       "      <td>0.0</td>\n",
       "      <td>0.0</td>\n",
       "      <td>0.0</td>\n",
       "      <td>0.0</td>\n",
       "      <td>0.0</td>\n",
       "      <td>0.0</td>\n",
       "      <td>1.0</td>\n",
       "      <td>0.75</td>\n",
       "      <td>4.5</td>\n",
       "      <td>0.0</td>\n",
       "    </tr>\n",
       "  </tbody>\n",
       "</table>\n",
       "</div>"
      ],
      "text/plain": [
       "             match_id  time     gold  top_gold  jgl_gold  mid_gold  adc_gold  \\\n",
       "0  001a1f289e3bab22_b   0.0   2415.0     475.0     475.0     475.0     475.0   \n",
       "1  001a1f289e3bab22_b   1.0   2430.0     475.0     475.0     475.0     475.0   \n",
       "2  001a1f289e3bab22_b   2.0   2751.0     532.0     552.0     532.0     532.0   \n",
       "3  001a1f289e3bab22_b   3.0   3929.0     849.0     817.0     791.0     686.0   \n",
       "4  001a1f289e3bab22_b   4.0   5219.0    1099.0    1099.0    1107.0     976.0   \n",
       "5  001a1f289e3bab22_b   5.0   6418.0    1466.0    1278.0    1352.0    1196.0   \n",
       "6  001a1f289e3bab22_b   6.0   8156.0    1667.0    1708.0    1574.0    1687.0   \n",
       "7  001a1f289e3bab22_b   7.0   9520.0    1970.0    2097.0    1708.0    1995.0   \n",
       "8  001a1f289e3bab22_b   8.0  10681.0    2147.0    2414.0    1988.0    2244.0   \n",
       "9  001a1f289e3bab22_b   9.0  12036.0    2605.0    2533.0    2321.0    2535.0   \n",
       "\n",
       "   sup_gold  kill_total  assist_total  opp_kill_total  opp_assist_total  \\\n",
       "0     515.0         0.0           0.0             0.0               0.0   \n",
       "1     530.0         0.0           0.0             0.0               0.0   \n",
       "2     603.0         0.0           0.0             0.0               0.0   \n",
       "3     786.0         0.0           0.0             0.0               0.0   \n",
       "4     938.0         0.0           0.0             0.0               0.0   \n",
       "5    1126.0         2.0           1.0             1.0               2.0   \n",
       "6    1520.0         2.0           1.0             3.0               4.0   \n",
       "7    1750.0         2.0           1.0             3.0               4.0   \n",
       "8    1888.0         2.0           1.0             4.0               5.0   \n",
       "9    2042.0         2.0           1.0             4.0               5.0   \n",
       "\n",
       "   r_inhib_count  r_baron_count  r_tower_count  r_herald_count  r_drag_count  \\\n",
       "0            0.0            0.0            0.0             0.0           0.0   \n",
       "1            0.0            0.0            0.0             0.0           0.0   \n",
       "2            0.0            0.0            0.0             0.0           0.0   \n",
       "3            0.0            0.0            0.0             0.0           0.0   \n",
       "4            0.0            0.0            0.0             0.0           0.0   \n",
       "5            0.0            0.0            0.0             0.0           0.0   \n",
       "6            0.0            0.0            0.0             0.0           0.0   \n",
       "7            0.0            0.0            0.0             0.0           0.0   \n",
       "8            0.0            0.0            0.0             0.0           0.0   \n",
       "9            0.0            0.0            0.0             0.0           0.0   \n",
       "\n",
       "   b_inhib_count  b_baron_count  b_tower_count  b_herald_count  \\\n",
       "0            0.0            0.0            0.0             0.0   \n",
       "1            0.0            0.0            0.0             0.0   \n",
       "2            0.0            0.0            0.0             0.0   \n",
       "3            0.0            0.0            0.0             0.0   \n",
       "4            0.0            0.0            0.0             0.0   \n",
       "5            0.0            0.0            0.0             0.0   \n",
       "6            0.0            0.0            0.0             0.0   \n",
       "7            0.0            0.0            0.0             0.0   \n",
       "8            0.0            0.0            0.0             0.0   \n",
       "9            0.0            0.0            0.0             0.0   \n",
       "\n",
       "   b_dragon_count   kda  opp_kda  result  \n",
       "0             0.0  0.00      0.0     0.0  \n",
       "1             0.0  0.00      0.0     0.0  \n",
       "2             0.0  0.00      0.0     0.0  \n",
       "3             0.0  0.00      0.0     0.0  \n",
       "4             0.0  0.00      0.0     0.0  \n",
       "5             0.0  3.00      1.5     0.0  \n",
       "6             0.0  1.00      3.5     0.0  \n",
       "7             1.0  1.00      3.5     0.0  \n",
       "8             1.0  0.75      4.5     0.0  \n",
       "9             1.0  0.75      4.5     0.0  "
      ]
     },
     "execution_count": 2,
     "metadata": {},
     "output_type": "execute_result"
    }
   ],
   "source": [
    "df = pd.read_csv('df.csv',index_col=0)\n",
    "df.head(10)"
   ]
  },
  {
   "cell_type": "code",
   "execution_count": 3,
   "metadata": {
    "collapsed": false
   },
   "outputs": [
    {
     "data": {
      "text/plain": [
       "(286876, 25)"
      ]
     },
     "execution_count": 3,
     "metadata": {},
     "output_type": "execute_result"
    }
   ],
   "source": [
    "df.shape"
   ]
  },
  {
   "cell_type": "markdown",
   "metadata": {},
   "source": [
    "## Fit Scaler to Dataset\n"
   ]
  },
  {
   "cell_type": "code",
   "execution_count": 4,
   "metadata": {
    "collapsed": true
   },
   "outputs": [],
   "source": [
    "# this df contains 2 games worth of rows\n",
    "dft = df.head(76).copy()"
   ]
  },
  {
   "cell_type": "code",
   "execution_count": 5,
   "metadata": {
    "collapsed": true
   },
   "outputs": [],
   "source": [
    "# this df contains 1 game worth of rows\n",
    "dfs = df.head(38).copy()"
   ]
  },
  {
   "cell_type": "code",
   "execution_count": 6,
   "metadata": {
    "collapsed": false
   },
   "outputs": [
    {
     "data": {
      "text/plain": [
       "StandardScaler(copy=True, with_mean=True, with_std=True)"
      ]
     },
     "execution_count": 6,
     "metadata": {},
     "output_type": "execute_result"
    }
   ],
   "source": [
    "from sklearn.preprocessing import StandardScaler\n",
    "\n",
    "data = df.iloc[:,2:-1]\n",
    "scaler = StandardScaler()\n",
    "scaler.fit(data)"
   ]
  },
  {
   "cell_type": "code",
   "execution_count": 7,
   "metadata": {
    "collapsed": false
   },
   "outputs": [
    {
     "data": {
      "text/html": [
       "<div>\n",
       "<style>\n",
       "    .dataframe thead tr:only-child th {\n",
       "        text-align: right;\n",
       "    }\n",
       "\n",
       "    .dataframe thead th {\n",
       "        text-align: left;\n",
       "    }\n",
       "\n",
       "    .dataframe tbody tr th {\n",
       "        vertical-align: top;\n",
       "    }\n",
       "</style>\n",
       "<table border=\"1\" class=\"dataframe\">\n",
       "  <thead>\n",
       "    <tr style=\"text-align: right;\">\n",
       "      <th></th>\n",
       "      <th>match_id</th>\n",
       "      <th>time</th>\n",
       "      <th>gold</th>\n",
       "      <th>top_gold</th>\n",
       "      <th>jgl_gold</th>\n",
       "      <th>mid_gold</th>\n",
       "      <th>adc_gold</th>\n",
       "      <th>sup_gold</th>\n",
       "      <th>kill_total</th>\n",
       "      <th>assist_total</th>\n",
       "      <th>opp_kill_total</th>\n",
       "      <th>opp_assist_total</th>\n",
       "      <th>r_inhib_count</th>\n",
       "      <th>r_baron_count</th>\n",
       "      <th>r_tower_count</th>\n",
       "      <th>r_herald_count</th>\n",
       "      <th>r_drag_count</th>\n",
       "      <th>b_inhib_count</th>\n",
       "      <th>b_baron_count</th>\n",
       "      <th>b_tower_count</th>\n",
       "      <th>b_herald_count</th>\n",
       "      <th>b_dragon_count</th>\n",
       "      <th>kda</th>\n",
       "      <th>opp_kda</th>\n",
       "      <th>result</th>\n",
       "    </tr>\n",
       "  </thead>\n",
       "  <tbody>\n",
       "    <tr>\n",
       "      <th>0</th>\n",
       "      <td>001a1f289e3bab22_b</td>\n",
       "      <td>0.0</td>\n",
       "      <td>2415.0</td>\n",
       "      <td>475.0</td>\n",
       "      <td>475.0</td>\n",
       "      <td>475.0</td>\n",
       "      <td>475.0</td>\n",
       "      <td>515.0</td>\n",
       "      <td>0.0</td>\n",
       "      <td>0.0</td>\n",
       "      <td>0.0</td>\n",
       "      <td>0.0</td>\n",
       "      <td>0.0</td>\n",
       "      <td>0.0</td>\n",
       "      <td>0.0</td>\n",
       "      <td>0.0</td>\n",
       "      <td>0.0</td>\n",
       "      <td>0.0</td>\n",
       "      <td>0.0</td>\n",
       "      <td>0.0</td>\n",
       "      <td>0.0</td>\n",
       "      <td>0.0</td>\n",
       "      <td>0.0</td>\n",
       "      <td>0.0</td>\n",
       "      <td>0.0</td>\n",
       "    </tr>\n",
       "    <tr>\n",
       "      <th>1</th>\n",
       "      <td>001a1f289e3bab22_b</td>\n",
       "      <td>1.0</td>\n",
       "      <td>2430.0</td>\n",
       "      <td>475.0</td>\n",
       "      <td>475.0</td>\n",
       "      <td>475.0</td>\n",
       "      <td>475.0</td>\n",
       "      <td>530.0</td>\n",
       "      <td>0.0</td>\n",
       "      <td>0.0</td>\n",
       "      <td>0.0</td>\n",
       "      <td>0.0</td>\n",
       "      <td>0.0</td>\n",
       "      <td>0.0</td>\n",
       "      <td>0.0</td>\n",
       "      <td>0.0</td>\n",
       "      <td>0.0</td>\n",
       "      <td>0.0</td>\n",
       "      <td>0.0</td>\n",
       "      <td>0.0</td>\n",
       "      <td>0.0</td>\n",
       "      <td>0.0</td>\n",
       "      <td>0.0</td>\n",
       "      <td>0.0</td>\n",
       "      <td>0.0</td>\n",
       "    </tr>\n",
       "    <tr>\n",
       "      <th>2</th>\n",
       "      <td>001a1f289e3bab22_b</td>\n",
       "      <td>2.0</td>\n",
       "      <td>2751.0</td>\n",
       "      <td>532.0</td>\n",
       "      <td>552.0</td>\n",
       "      <td>532.0</td>\n",
       "      <td>532.0</td>\n",
       "      <td>603.0</td>\n",
       "      <td>0.0</td>\n",
       "      <td>0.0</td>\n",
       "      <td>0.0</td>\n",
       "      <td>0.0</td>\n",
       "      <td>0.0</td>\n",
       "      <td>0.0</td>\n",
       "      <td>0.0</td>\n",
       "      <td>0.0</td>\n",
       "      <td>0.0</td>\n",
       "      <td>0.0</td>\n",
       "      <td>0.0</td>\n",
       "      <td>0.0</td>\n",
       "      <td>0.0</td>\n",
       "      <td>0.0</td>\n",
       "      <td>0.0</td>\n",
       "      <td>0.0</td>\n",
       "      <td>0.0</td>\n",
       "    </tr>\n",
       "    <tr>\n",
       "      <th>3</th>\n",
       "      <td>001a1f289e3bab22_b</td>\n",
       "      <td>3.0</td>\n",
       "      <td>3929.0</td>\n",
       "      <td>849.0</td>\n",
       "      <td>817.0</td>\n",
       "      <td>791.0</td>\n",
       "      <td>686.0</td>\n",
       "      <td>786.0</td>\n",
       "      <td>0.0</td>\n",
       "      <td>0.0</td>\n",
       "      <td>0.0</td>\n",
       "      <td>0.0</td>\n",
       "      <td>0.0</td>\n",
       "      <td>0.0</td>\n",
       "      <td>0.0</td>\n",
       "      <td>0.0</td>\n",
       "      <td>0.0</td>\n",
       "      <td>0.0</td>\n",
       "      <td>0.0</td>\n",
       "      <td>0.0</td>\n",
       "      <td>0.0</td>\n",
       "      <td>0.0</td>\n",
       "      <td>0.0</td>\n",
       "      <td>0.0</td>\n",
       "      <td>0.0</td>\n",
       "    </tr>\n",
       "    <tr>\n",
       "      <th>4</th>\n",
       "      <td>001a1f289e3bab22_b</td>\n",
       "      <td>4.0</td>\n",
       "      <td>5219.0</td>\n",
       "      <td>1099.0</td>\n",
       "      <td>1099.0</td>\n",
       "      <td>1107.0</td>\n",
       "      <td>976.0</td>\n",
       "      <td>938.0</td>\n",
       "      <td>0.0</td>\n",
       "      <td>0.0</td>\n",
       "      <td>0.0</td>\n",
       "      <td>0.0</td>\n",
       "      <td>0.0</td>\n",
       "      <td>0.0</td>\n",
       "      <td>0.0</td>\n",
       "      <td>0.0</td>\n",
       "      <td>0.0</td>\n",
       "      <td>0.0</td>\n",
       "      <td>0.0</td>\n",
       "      <td>0.0</td>\n",
       "      <td>0.0</td>\n",
       "      <td>0.0</td>\n",
       "      <td>0.0</td>\n",
       "      <td>0.0</td>\n",
       "      <td>0.0</td>\n",
       "    </tr>\n",
       "  </tbody>\n",
       "</table>\n",
       "</div>"
      ],
      "text/plain": [
       "             match_id  time    gold  top_gold  jgl_gold  mid_gold  adc_gold  \\\n",
       "0  001a1f289e3bab22_b   0.0  2415.0     475.0     475.0     475.0     475.0   \n",
       "1  001a1f289e3bab22_b   1.0  2430.0     475.0     475.0     475.0     475.0   \n",
       "2  001a1f289e3bab22_b   2.0  2751.0     532.0     552.0     532.0     532.0   \n",
       "3  001a1f289e3bab22_b   3.0  3929.0     849.0     817.0     791.0     686.0   \n",
       "4  001a1f289e3bab22_b   4.0  5219.0    1099.0    1099.0    1107.0     976.0   \n",
       "\n",
       "   sup_gold  kill_total  assist_total  opp_kill_total  opp_assist_total  \\\n",
       "0     515.0         0.0           0.0             0.0               0.0   \n",
       "1     530.0         0.0           0.0             0.0               0.0   \n",
       "2     603.0         0.0           0.0             0.0               0.0   \n",
       "3     786.0         0.0           0.0             0.0               0.0   \n",
       "4     938.0         0.0           0.0             0.0               0.0   \n",
       "\n",
       "   r_inhib_count  r_baron_count  r_tower_count  r_herald_count  r_drag_count  \\\n",
       "0            0.0            0.0            0.0             0.0           0.0   \n",
       "1            0.0            0.0            0.0             0.0           0.0   \n",
       "2            0.0            0.0            0.0             0.0           0.0   \n",
       "3            0.0            0.0            0.0             0.0           0.0   \n",
       "4            0.0            0.0            0.0             0.0           0.0   \n",
       "\n",
       "   b_inhib_count  b_baron_count  b_tower_count  b_herald_count  \\\n",
       "0            0.0            0.0            0.0             0.0   \n",
       "1            0.0            0.0            0.0             0.0   \n",
       "2            0.0            0.0            0.0             0.0   \n",
       "3            0.0            0.0            0.0             0.0   \n",
       "4            0.0            0.0            0.0             0.0   \n",
       "\n",
       "   b_dragon_count  kda  opp_kda  result  \n",
       "0             0.0  0.0      0.0     0.0  \n",
       "1             0.0  0.0      0.0     0.0  \n",
       "2             0.0  0.0      0.0     0.0  \n",
       "3             0.0  0.0      0.0     0.0  \n",
       "4             0.0  0.0      0.0     0.0  "
      ]
     },
     "execution_count": 7,
     "metadata": {},
     "output_type": "execute_result"
    }
   ],
   "source": [
    "df.head()"
   ]
  },
  {
   "cell_type": "markdown",
   "metadata": {},
   "source": [
    "## Split into Train/Test Sets and Standardize"
   ]
  },
  {
   "cell_type": "code",
   "execution_count": 8,
   "metadata": {
    "collapsed": false
   },
   "outputs": [],
   "source": [
    "# want to keep group/result columns and add them back after scaling\n",
    "cols = list(df.columns.values)\n",
    "hold_out_cols = ['match_id', 'time', 'result']\n",
    "ho_df = df[hold_out_cols].copy()"
   ]
  },
  {
   "cell_type": "code",
   "execution_count": 9,
   "metadata": {
    "collapsed": false
   },
   "outputs": [],
   "source": [
    "cols_scale = ['gold', 'top_gold', 'jgl_gold', 'mid_gold', 'adc_gold', 'sup_gold', 'kill_total',\n",
    " 'assist_total', 'opp_kill_total', 'opp_assist_total', 'r_inhib_count', 'r_baron_count', 'r_tower_count',\n",
    " 'r_herald_count', 'r_drag_count', 'b_inhib_count', 'b_baron_count', 'b_tower_count', 'b_herald_count',\n",
    " 'b_dragon_count', 'kda', 'opp_kda']"
   ]
  },
  {
   "cell_type": "code",
   "execution_count": 10,
   "metadata": {
    "collapsed": false
   },
   "outputs": [],
   "source": [
    "# scale data\n",
    "data = scaler.transform(data)"
   ]
  },
  {
   "cell_type": "code",
   "execution_count": 11,
   "metadata": {
    "collapsed": false
   },
   "outputs": [
    {
     "data": {
      "text/html": [
       "<div>\n",
       "<style>\n",
       "    .dataframe thead tr:only-child th {\n",
       "        text-align: right;\n",
       "    }\n",
       "\n",
       "    .dataframe thead th {\n",
       "        text-align: left;\n",
       "    }\n",
       "\n",
       "    .dataframe tbody tr th {\n",
       "        vertical-align: top;\n",
       "    }\n",
       "</style>\n",
       "<table border=\"1\" class=\"dataframe\">\n",
       "  <thead>\n",
       "    <tr style=\"text-align: right;\">\n",
       "      <th></th>\n",
       "      <th>gold</th>\n",
       "      <th>top_gold</th>\n",
       "      <th>jgl_gold</th>\n",
       "      <th>mid_gold</th>\n",
       "      <th>adc_gold</th>\n",
       "      <th>sup_gold</th>\n",
       "      <th>kill_total</th>\n",
       "      <th>assist_total</th>\n",
       "      <th>opp_kill_total</th>\n",
       "      <th>opp_assist_total</th>\n",
       "      <th>r_inhib_count</th>\n",
       "      <th>r_baron_count</th>\n",
       "      <th>r_tower_count</th>\n",
       "      <th>r_herald_count</th>\n",
       "      <th>r_drag_count</th>\n",
       "      <th>b_inhib_count</th>\n",
       "      <th>b_baron_count</th>\n",
       "      <th>b_tower_count</th>\n",
       "      <th>b_herald_count</th>\n",
       "      <th>b_dragon_count</th>\n",
       "      <th>kda</th>\n",
       "      <th>opp_kda</th>\n",
       "    </tr>\n",
       "  </thead>\n",
       "  <tbody>\n",
       "    <tr>\n",
       "      <th>0</th>\n",
       "      <td>-1.342942</td>\n",
       "      <td>-1.326213</td>\n",
       "      <td>-1.387083</td>\n",
       "      <td>-1.341606</td>\n",
       "      <td>-1.320149</td>\n",
       "      <td>-1.269691</td>\n",
       "      <td>-0.899995</td>\n",
       "      <td>-0.796908</td>\n",
       "      <td>-0.899995</td>\n",
       "      <td>-0.796908</td>\n",
       "      <td>-1.742076</td>\n",
       "      <td>-2.271392</td>\n",
       "      <td>-1.401829</td>\n",
       "      <td>-2.768166</td>\n",
       "      <td>-1.835765</td>\n",
       "      <td>-1.735504</td>\n",
       "      <td>-2.43541</td>\n",
       "      <td>-1.461121</td>\n",
       "      <td>-2.877854</td>\n",
       "      <td>-1.885778</td>\n",
       "      <td>-0.712698</td>\n",
       "      <td>-0.712698</td>\n",
       "    </tr>\n",
       "    <tr>\n",
       "      <th>1</th>\n",
       "      <td>-1.342244</td>\n",
       "      <td>-1.326213</td>\n",
       "      <td>-1.387083</td>\n",
       "      <td>-1.341606</td>\n",
       "      <td>-1.320149</td>\n",
       "      <td>-1.264782</td>\n",
       "      <td>-0.899995</td>\n",
       "      <td>-0.796908</td>\n",
       "      <td>-0.899995</td>\n",
       "      <td>-0.796908</td>\n",
       "      <td>-1.742076</td>\n",
       "      <td>-2.271392</td>\n",
       "      <td>-1.401829</td>\n",
       "      <td>-2.768166</td>\n",
       "      <td>-1.835765</td>\n",
       "      <td>-1.735504</td>\n",
       "      <td>-2.43541</td>\n",
       "      <td>-1.461121</td>\n",
       "      <td>-2.877854</td>\n",
       "      <td>-1.885778</td>\n",
       "      <td>-0.712698</td>\n",
       "      <td>-0.712698</td>\n",
       "    </tr>\n",
       "    <tr>\n",
       "      <th>2</th>\n",
       "      <td>-1.327294</td>\n",
       "      <td>-1.313755</td>\n",
       "      <td>-1.368286</td>\n",
       "      <td>-1.330031</td>\n",
       "      <td>-1.308748</td>\n",
       "      <td>-1.240890</td>\n",
       "      <td>-0.899995</td>\n",
       "      <td>-0.796908</td>\n",
       "      <td>-0.899995</td>\n",
       "      <td>-0.796908</td>\n",
       "      <td>-1.742076</td>\n",
       "      <td>-2.271392</td>\n",
       "      <td>-1.401829</td>\n",
       "      <td>-2.768166</td>\n",
       "      <td>-1.835765</td>\n",
       "      <td>-1.735504</td>\n",
       "      <td>-2.43541</td>\n",
       "      <td>-1.461121</td>\n",
       "      <td>-2.877854</td>\n",
       "      <td>-1.885778</td>\n",
       "      <td>-0.712698</td>\n",
       "      <td>-0.712698</td>\n",
       "    </tr>\n",
       "    <tr>\n",
       "      <th>3</th>\n",
       "      <td>-1.272434</td>\n",
       "      <td>-1.244472</td>\n",
       "      <td>-1.303596</td>\n",
       "      <td>-1.277439</td>\n",
       "      <td>-1.277944</td>\n",
       "      <td>-1.180998</td>\n",
       "      <td>-0.899995</td>\n",
       "      <td>-0.796908</td>\n",
       "      <td>-0.899995</td>\n",
       "      <td>-0.796908</td>\n",
       "      <td>-1.742076</td>\n",
       "      <td>-2.271392</td>\n",
       "      <td>-1.401829</td>\n",
       "      <td>-2.768166</td>\n",
       "      <td>-1.835765</td>\n",
       "      <td>-1.735504</td>\n",
       "      <td>-2.43541</td>\n",
       "      <td>-1.461121</td>\n",
       "      <td>-2.877854</td>\n",
       "      <td>-1.885778</td>\n",
       "      <td>-0.712698</td>\n",
       "      <td>-0.712698</td>\n",
       "    </tr>\n",
       "    <tr>\n",
       "      <th>4</th>\n",
       "      <td>-1.212358</td>\n",
       "      <td>-1.189832</td>\n",
       "      <td>-1.234757</td>\n",
       "      <td>-1.213273</td>\n",
       "      <td>-1.219937</td>\n",
       "      <td>-1.131251</td>\n",
       "      <td>-0.899995</td>\n",
       "      <td>-0.796908</td>\n",
       "      <td>-0.899995</td>\n",
       "      <td>-0.796908</td>\n",
       "      <td>-1.742076</td>\n",
       "      <td>-2.271392</td>\n",
       "      <td>-1.401829</td>\n",
       "      <td>-2.768166</td>\n",
       "      <td>-1.835765</td>\n",
       "      <td>-1.735504</td>\n",
       "      <td>-2.43541</td>\n",
       "      <td>-1.461121</td>\n",
       "      <td>-2.877854</td>\n",
       "      <td>-1.885778</td>\n",
       "      <td>-0.712698</td>\n",
       "      <td>-0.712698</td>\n",
       "    </tr>\n",
       "  </tbody>\n",
       "</table>\n",
       "</div>"
      ],
      "text/plain": [
       "       gold  top_gold  jgl_gold  mid_gold  adc_gold  sup_gold  kill_total  \\\n",
       "0 -1.342942 -1.326213 -1.387083 -1.341606 -1.320149 -1.269691   -0.899995   \n",
       "1 -1.342244 -1.326213 -1.387083 -1.341606 -1.320149 -1.264782   -0.899995   \n",
       "2 -1.327294 -1.313755 -1.368286 -1.330031 -1.308748 -1.240890   -0.899995   \n",
       "3 -1.272434 -1.244472 -1.303596 -1.277439 -1.277944 -1.180998   -0.899995   \n",
       "4 -1.212358 -1.189832 -1.234757 -1.213273 -1.219937 -1.131251   -0.899995   \n",
       "\n",
       "   assist_total  opp_kill_total  opp_assist_total  r_inhib_count  \\\n",
       "0     -0.796908       -0.899995         -0.796908      -1.742076   \n",
       "1     -0.796908       -0.899995         -0.796908      -1.742076   \n",
       "2     -0.796908       -0.899995         -0.796908      -1.742076   \n",
       "3     -0.796908       -0.899995         -0.796908      -1.742076   \n",
       "4     -0.796908       -0.899995         -0.796908      -1.742076   \n",
       "\n",
       "   r_baron_count  r_tower_count  r_herald_count  r_drag_count  b_inhib_count  \\\n",
       "0      -2.271392      -1.401829       -2.768166     -1.835765      -1.735504   \n",
       "1      -2.271392      -1.401829       -2.768166     -1.835765      -1.735504   \n",
       "2      -2.271392      -1.401829       -2.768166     -1.835765      -1.735504   \n",
       "3      -2.271392      -1.401829       -2.768166     -1.835765      -1.735504   \n",
       "4      -2.271392      -1.401829       -2.768166     -1.835765      -1.735504   \n",
       "\n",
       "   b_baron_count  b_tower_count  b_herald_count  b_dragon_count       kda  \\\n",
       "0       -2.43541      -1.461121       -2.877854       -1.885778 -0.712698   \n",
       "1       -2.43541      -1.461121       -2.877854       -1.885778 -0.712698   \n",
       "2       -2.43541      -1.461121       -2.877854       -1.885778 -0.712698   \n",
       "3       -2.43541      -1.461121       -2.877854       -1.885778 -0.712698   \n",
       "4       -2.43541      -1.461121       -2.877854       -1.885778 -0.712698   \n",
       "\n",
       "    opp_kda  \n",
       "0 -0.712698  \n",
       "1 -0.712698  \n",
       "2 -0.712698  \n",
       "3 -0.712698  \n",
       "4 -0.712698  "
      ]
     },
     "execution_count": 11,
     "metadata": {},
     "output_type": "execute_result"
    }
   ],
   "source": [
    "sdf = pd.DataFrame(data)\n",
    "sdf.columns = cols_scale\n",
    "sdf.head()"
   ]
  },
  {
   "cell_type": "code",
   "execution_count": 12,
   "metadata": {
    "collapsed": false
   },
   "outputs": [
    {
     "name": "stdout",
     "output_type": "stream",
     "text": [
      "286876\n",
      "286876\n"
     ]
    }
   ],
   "source": [
    "print(len(sdf))\n",
    "print(len(ho_df))"
   ]
  },
  {
   "cell_type": "code",
   "execution_count": 13,
   "metadata": {
    "collapsed": false
   },
   "outputs": [
    {
     "data": {
      "text/html": [
       "<div>\n",
       "<style>\n",
       "    .dataframe thead tr:only-child th {\n",
       "        text-align: right;\n",
       "    }\n",
       "\n",
       "    .dataframe thead th {\n",
       "        text-align: left;\n",
       "    }\n",
       "\n",
       "    .dataframe tbody tr th {\n",
       "        vertical-align: top;\n",
       "    }\n",
       "</style>\n",
       "<table border=\"1\" class=\"dataframe\">\n",
       "  <thead>\n",
       "    <tr style=\"text-align: right;\">\n",
       "      <th></th>\n",
       "      <th>gold</th>\n",
       "      <th>top_gold</th>\n",
       "      <th>jgl_gold</th>\n",
       "      <th>mid_gold</th>\n",
       "      <th>adc_gold</th>\n",
       "      <th>sup_gold</th>\n",
       "      <th>kill_total</th>\n",
       "      <th>assist_total</th>\n",
       "      <th>opp_kill_total</th>\n",
       "      <th>opp_assist_total</th>\n",
       "      <th>r_inhib_count</th>\n",
       "      <th>r_baron_count</th>\n",
       "      <th>r_tower_count</th>\n",
       "      <th>r_herald_count</th>\n",
       "      <th>r_drag_count</th>\n",
       "      <th>b_inhib_count</th>\n",
       "      <th>b_baron_count</th>\n",
       "      <th>b_tower_count</th>\n",
       "      <th>b_herald_count</th>\n",
       "      <th>b_dragon_count</th>\n",
       "      <th>kda</th>\n",
       "      <th>opp_kda</th>\n",
       "      <th>match_id</th>\n",
       "      <th>time</th>\n",
       "      <th>result</th>\n",
       "    </tr>\n",
       "  </thead>\n",
       "  <tbody>\n",
       "    <tr>\n",
       "      <th>0</th>\n",
       "      <td>-1.342942</td>\n",
       "      <td>-1.326213</td>\n",
       "      <td>-1.387083</td>\n",
       "      <td>-1.341606</td>\n",
       "      <td>-1.320149</td>\n",
       "      <td>-1.269691</td>\n",
       "      <td>-0.899995</td>\n",
       "      <td>-0.796908</td>\n",
       "      <td>-0.899995</td>\n",
       "      <td>-0.796908</td>\n",
       "      <td>-1.742076</td>\n",
       "      <td>-2.271392</td>\n",
       "      <td>-1.401829</td>\n",
       "      <td>-2.768166</td>\n",
       "      <td>-1.835765</td>\n",
       "      <td>-1.735504</td>\n",
       "      <td>-2.43541</td>\n",
       "      <td>-1.461121</td>\n",
       "      <td>-2.877854</td>\n",
       "      <td>-1.885778</td>\n",
       "      <td>-0.712698</td>\n",
       "      <td>-0.712698</td>\n",
       "      <td>001a1f289e3bab22_b</td>\n",
       "      <td>0.0</td>\n",
       "      <td>0.0</td>\n",
       "    </tr>\n",
       "    <tr>\n",
       "      <th>1</th>\n",
       "      <td>-1.342244</td>\n",
       "      <td>-1.326213</td>\n",
       "      <td>-1.387083</td>\n",
       "      <td>-1.341606</td>\n",
       "      <td>-1.320149</td>\n",
       "      <td>-1.264782</td>\n",
       "      <td>-0.899995</td>\n",
       "      <td>-0.796908</td>\n",
       "      <td>-0.899995</td>\n",
       "      <td>-0.796908</td>\n",
       "      <td>-1.742076</td>\n",
       "      <td>-2.271392</td>\n",
       "      <td>-1.401829</td>\n",
       "      <td>-2.768166</td>\n",
       "      <td>-1.835765</td>\n",
       "      <td>-1.735504</td>\n",
       "      <td>-2.43541</td>\n",
       "      <td>-1.461121</td>\n",
       "      <td>-2.877854</td>\n",
       "      <td>-1.885778</td>\n",
       "      <td>-0.712698</td>\n",
       "      <td>-0.712698</td>\n",
       "      <td>001a1f289e3bab22_b</td>\n",
       "      <td>1.0</td>\n",
       "      <td>0.0</td>\n",
       "    </tr>\n",
       "    <tr>\n",
       "      <th>2</th>\n",
       "      <td>-1.327294</td>\n",
       "      <td>-1.313755</td>\n",
       "      <td>-1.368286</td>\n",
       "      <td>-1.330031</td>\n",
       "      <td>-1.308748</td>\n",
       "      <td>-1.240890</td>\n",
       "      <td>-0.899995</td>\n",
       "      <td>-0.796908</td>\n",
       "      <td>-0.899995</td>\n",
       "      <td>-0.796908</td>\n",
       "      <td>-1.742076</td>\n",
       "      <td>-2.271392</td>\n",
       "      <td>-1.401829</td>\n",
       "      <td>-2.768166</td>\n",
       "      <td>-1.835765</td>\n",
       "      <td>-1.735504</td>\n",
       "      <td>-2.43541</td>\n",
       "      <td>-1.461121</td>\n",
       "      <td>-2.877854</td>\n",
       "      <td>-1.885778</td>\n",
       "      <td>-0.712698</td>\n",
       "      <td>-0.712698</td>\n",
       "      <td>001a1f289e3bab22_b</td>\n",
       "      <td>2.0</td>\n",
       "      <td>0.0</td>\n",
       "    </tr>\n",
       "    <tr>\n",
       "      <th>3</th>\n",
       "      <td>-1.272434</td>\n",
       "      <td>-1.244472</td>\n",
       "      <td>-1.303596</td>\n",
       "      <td>-1.277439</td>\n",
       "      <td>-1.277944</td>\n",
       "      <td>-1.180998</td>\n",
       "      <td>-0.899995</td>\n",
       "      <td>-0.796908</td>\n",
       "      <td>-0.899995</td>\n",
       "      <td>-0.796908</td>\n",
       "      <td>-1.742076</td>\n",
       "      <td>-2.271392</td>\n",
       "      <td>-1.401829</td>\n",
       "      <td>-2.768166</td>\n",
       "      <td>-1.835765</td>\n",
       "      <td>-1.735504</td>\n",
       "      <td>-2.43541</td>\n",
       "      <td>-1.461121</td>\n",
       "      <td>-2.877854</td>\n",
       "      <td>-1.885778</td>\n",
       "      <td>-0.712698</td>\n",
       "      <td>-0.712698</td>\n",
       "      <td>001a1f289e3bab22_b</td>\n",
       "      <td>3.0</td>\n",
       "      <td>0.0</td>\n",
       "    </tr>\n",
       "    <tr>\n",
       "      <th>4</th>\n",
       "      <td>-1.212358</td>\n",
       "      <td>-1.189832</td>\n",
       "      <td>-1.234757</td>\n",
       "      <td>-1.213273</td>\n",
       "      <td>-1.219937</td>\n",
       "      <td>-1.131251</td>\n",
       "      <td>-0.899995</td>\n",
       "      <td>-0.796908</td>\n",
       "      <td>-0.899995</td>\n",
       "      <td>-0.796908</td>\n",
       "      <td>-1.742076</td>\n",
       "      <td>-2.271392</td>\n",
       "      <td>-1.401829</td>\n",
       "      <td>-2.768166</td>\n",
       "      <td>-1.835765</td>\n",
       "      <td>-1.735504</td>\n",
       "      <td>-2.43541</td>\n",
       "      <td>-1.461121</td>\n",
       "      <td>-2.877854</td>\n",
       "      <td>-1.885778</td>\n",
       "      <td>-0.712698</td>\n",
       "      <td>-0.712698</td>\n",
       "      <td>001a1f289e3bab22_b</td>\n",
       "      <td>4.0</td>\n",
       "      <td>0.0</td>\n",
       "    </tr>\n",
       "  </tbody>\n",
       "</table>\n",
       "</div>"
      ],
      "text/plain": [
       "       gold  top_gold  jgl_gold  mid_gold  adc_gold  sup_gold  kill_total  \\\n",
       "0 -1.342942 -1.326213 -1.387083 -1.341606 -1.320149 -1.269691   -0.899995   \n",
       "1 -1.342244 -1.326213 -1.387083 -1.341606 -1.320149 -1.264782   -0.899995   \n",
       "2 -1.327294 -1.313755 -1.368286 -1.330031 -1.308748 -1.240890   -0.899995   \n",
       "3 -1.272434 -1.244472 -1.303596 -1.277439 -1.277944 -1.180998   -0.899995   \n",
       "4 -1.212358 -1.189832 -1.234757 -1.213273 -1.219937 -1.131251   -0.899995   \n",
       "\n",
       "   assist_total  opp_kill_total  opp_assist_total  r_inhib_count  \\\n",
       "0     -0.796908       -0.899995         -0.796908      -1.742076   \n",
       "1     -0.796908       -0.899995         -0.796908      -1.742076   \n",
       "2     -0.796908       -0.899995         -0.796908      -1.742076   \n",
       "3     -0.796908       -0.899995         -0.796908      -1.742076   \n",
       "4     -0.796908       -0.899995         -0.796908      -1.742076   \n",
       "\n",
       "   r_baron_count  r_tower_count  r_herald_count  r_drag_count  b_inhib_count  \\\n",
       "0      -2.271392      -1.401829       -2.768166     -1.835765      -1.735504   \n",
       "1      -2.271392      -1.401829       -2.768166     -1.835765      -1.735504   \n",
       "2      -2.271392      -1.401829       -2.768166     -1.835765      -1.735504   \n",
       "3      -2.271392      -1.401829       -2.768166     -1.835765      -1.735504   \n",
       "4      -2.271392      -1.401829       -2.768166     -1.835765      -1.735504   \n",
       "\n",
       "   b_baron_count  b_tower_count  b_herald_count  b_dragon_count       kda  \\\n",
       "0       -2.43541      -1.461121       -2.877854       -1.885778 -0.712698   \n",
       "1       -2.43541      -1.461121       -2.877854       -1.885778 -0.712698   \n",
       "2       -2.43541      -1.461121       -2.877854       -1.885778 -0.712698   \n",
       "3       -2.43541      -1.461121       -2.877854       -1.885778 -0.712698   \n",
       "4       -2.43541      -1.461121       -2.877854       -1.885778 -0.712698   \n",
       "\n",
       "    opp_kda            match_id  time  result  \n",
       "0 -0.712698  001a1f289e3bab22_b   0.0     0.0  \n",
       "1 -0.712698  001a1f289e3bab22_b   1.0     0.0  \n",
       "2 -0.712698  001a1f289e3bab22_b   2.0     0.0  \n",
       "3 -0.712698  001a1f289e3bab22_b   3.0     0.0  \n",
       "4 -0.712698  001a1f289e3bab22_b   4.0     0.0  "
      ]
     },
     "execution_count": 13,
     "metadata": {},
     "output_type": "execute_result"
    }
   ],
   "source": [
    "sdf = pd.merge(sdf, ho_df, left_index=True, right_index=True)\n",
    "sdf.head()"
   ]
  },
  {
   "cell_type": "code",
   "execution_count": 14,
   "metadata": {
    "collapsed": false
   },
   "outputs": [],
   "source": [
    "fcols = [ 'match_id', 'time','gold', 'top_gold', 'jgl_gold', 'mid_gold', 'adc_gold', 'sup_gold', 'kill_total',\n",
    " 'assist_total', 'opp_kill_total', 'opp_assist_total', 'r_inhib_count', 'r_baron_count', 'r_tower_count',\n",
    " 'r_herald_count', 'r_drag_count', 'b_inhib_count', 'b_baron_count', 'b_tower_count', 'b_herald_count',\n",
    " 'b_dragon_count', 'kda', 'opp_kda', 'result']"
   ]
  },
  {
   "cell_type": "code",
   "execution_count": 15,
   "metadata": {
    "collapsed": false
   },
   "outputs": [
    {
     "data": {
      "text/html": [
       "<div>\n",
       "<style>\n",
       "    .dataframe thead tr:only-child th {\n",
       "        text-align: right;\n",
       "    }\n",
       "\n",
       "    .dataframe thead th {\n",
       "        text-align: left;\n",
       "    }\n",
       "\n",
       "    .dataframe tbody tr th {\n",
       "        vertical-align: top;\n",
       "    }\n",
       "</style>\n",
       "<table border=\"1\" class=\"dataframe\">\n",
       "  <thead>\n",
       "    <tr style=\"text-align: right;\">\n",
       "      <th></th>\n",
       "      <th>match_id</th>\n",
       "      <th>time</th>\n",
       "      <th>gold</th>\n",
       "      <th>top_gold</th>\n",
       "      <th>jgl_gold</th>\n",
       "      <th>mid_gold</th>\n",
       "      <th>adc_gold</th>\n",
       "      <th>sup_gold</th>\n",
       "      <th>kill_total</th>\n",
       "      <th>assist_total</th>\n",
       "      <th>opp_kill_total</th>\n",
       "      <th>opp_assist_total</th>\n",
       "      <th>r_inhib_count</th>\n",
       "      <th>r_baron_count</th>\n",
       "      <th>r_tower_count</th>\n",
       "      <th>r_herald_count</th>\n",
       "      <th>r_drag_count</th>\n",
       "      <th>b_inhib_count</th>\n",
       "      <th>b_baron_count</th>\n",
       "      <th>b_tower_count</th>\n",
       "      <th>b_herald_count</th>\n",
       "      <th>b_dragon_count</th>\n",
       "      <th>kda</th>\n",
       "      <th>opp_kda</th>\n",
       "      <th>result</th>\n",
       "    </tr>\n",
       "  </thead>\n",
       "  <tbody>\n",
       "    <tr>\n",
       "      <th>0</th>\n",
       "      <td>001a1f289e3bab22_b</td>\n",
       "      <td>0.0</td>\n",
       "      <td>-1.342942</td>\n",
       "      <td>-1.326213</td>\n",
       "      <td>-1.387083</td>\n",
       "      <td>-1.341606</td>\n",
       "      <td>-1.320149</td>\n",
       "      <td>-1.269691</td>\n",
       "      <td>-0.899995</td>\n",
       "      <td>-0.796908</td>\n",
       "      <td>-0.899995</td>\n",
       "      <td>-0.796908</td>\n",
       "      <td>-1.742076</td>\n",
       "      <td>-2.271392</td>\n",
       "      <td>-1.401829</td>\n",
       "      <td>-2.768166</td>\n",
       "      <td>-1.835765</td>\n",
       "      <td>-1.735504</td>\n",
       "      <td>-2.43541</td>\n",
       "      <td>-1.461121</td>\n",
       "      <td>-2.877854</td>\n",
       "      <td>-1.885778</td>\n",
       "      <td>-0.712698</td>\n",
       "      <td>-0.712698</td>\n",
       "      <td>0.0</td>\n",
       "    </tr>\n",
       "    <tr>\n",
       "      <th>1</th>\n",
       "      <td>001a1f289e3bab22_b</td>\n",
       "      <td>1.0</td>\n",
       "      <td>-1.342244</td>\n",
       "      <td>-1.326213</td>\n",
       "      <td>-1.387083</td>\n",
       "      <td>-1.341606</td>\n",
       "      <td>-1.320149</td>\n",
       "      <td>-1.264782</td>\n",
       "      <td>-0.899995</td>\n",
       "      <td>-0.796908</td>\n",
       "      <td>-0.899995</td>\n",
       "      <td>-0.796908</td>\n",
       "      <td>-1.742076</td>\n",
       "      <td>-2.271392</td>\n",
       "      <td>-1.401829</td>\n",
       "      <td>-2.768166</td>\n",
       "      <td>-1.835765</td>\n",
       "      <td>-1.735504</td>\n",
       "      <td>-2.43541</td>\n",
       "      <td>-1.461121</td>\n",
       "      <td>-2.877854</td>\n",
       "      <td>-1.885778</td>\n",
       "      <td>-0.712698</td>\n",
       "      <td>-0.712698</td>\n",
       "      <td>0.0</td>\n",
       "    </tr>\n",
       "    <tr>\n",
       "      <th>2</th>\n",
       "      <td>001a1f289e3bab22_b</td>\n",
       "      <td>2.0</td>\n",
       "      <td>-1.327294</td>\n",
       "      <td>-1.313755</td>\n",
       "      <td>-1.368286</td>\n",
       "      <td>-1.330031</td>\n",
       "      <td>-1.308748</td>\n",
       "      <td>-1.240890</td>\n",
       "      <td>-0.899995</td>\n",
       "      <td>-0.796908</td>\n",
       "      <td>-0.899995</td>\n",
       "      <td>-0.796908</td>\n",
       "      <td>-1.742076</td>\n",
       "      <td>-2.271392</td>\n",
       "      <td>-1.401829</td>\n",
       "      <td>-2.768166</td>\n",
       "      <td>-1.835765</td>\n",
       "      <td>-1.735504</td>\n",
       "      <td>-2.43541</td>\n",
       "      <td>-1.461121</td>\n",
       "      <td>-2.877854</td>\n",
       "      <td>-1.885778</td>\n",
       "      <td>-0.712698</td>\n",
       "      <td>-0.712698</td>\n",
       "      <td>0.0</td>\n",
       "    </tr>\n",
       "    <tr>\n",
       "      <th>3</th>\n",
       "      <td>001a1f289e3bab22_b</td>\n",
       "      <td>3.0</td>\n",
       "      <td>-1.272434</td>\n",
       "      <td>-1.244472</td>\n",
       "      <td>-1.303596</td>\n",
       "      <td>-1.277439</td>\n",
       "      <td>-1.277944</td>\n",
       "      <td>-1.180998</td>\n",
       "      <td>-0.899995</td>\n",
       "      <td>-0.796908</td>\n",
       "      <td>-0.899995</td>\n",
       "      <td>-0.796908</td>\n",
       "      <td>-1.742076</td>\n",
       "      <td>-2.271392</td>\n",
       "      <td>-1.401829</td>\n",
       "      <td>-2.768166</td>\n",
       "      <td>-1.835765</td>\n",
       "      <td>-1.735504</td>\n",
       "      <td>-2.43541</td>\n",
       "      <td>-1.461121</td>\n",
       "      <td>-2.877854</td>\n",
       "      <td>-1.885778</td>\n",
       "      <td>-0.712698</td>\n",
       "      <td>-0.712698</td>\n",
       "      <td>0.0</td>\n",
       "    </tr>\n",
       "    <tr>\n",
       "      <th>4</th>\n",
       "      <td>001a1f289e3bab22_b</td>\n",
       "      <td>4.0</td>\n",
       "      <td>-1.212358</td>\n",
       "      <td>-1.189832</td>\n",
       "      <td>-1.234757</td>\n",
       "      <td>-1.213273</td>\n",
       "      <td>-1.219937</td>\n",
       "      <td>-1.131251</td>\n",
       "      <td>-0.899995</td>\n",
       "      <td>-0.796908</td>\n",
       "      <td>-0.899995</td>\n",
       "      <td>-0.796908</td>\n",
       "      <td>-1.742076</td>\n",
       "      <td>-2.271392</td>\n",
       "      <td>-1.401829</td>\n",
       "      <td>-2.768166</td>\n",
       "      <td>-1.835765</td>\n",
       "      <td>-1.735504</td>\n",
       "      <td>-2.43541</td>\n",
       "      <td>-1.461121</td>\n",
       "      <td>-2.877854</td>\n",
       "      <td>-1.885778</td>\n",
       "      <td>-0.712698</td>\n",
       "      <td>-0.712698</td>\n",
       "      <td>0.0</td>\n",
       "    </tr>\n",
       "  </tbody>\n",
       "</table>\n",
       "</div>"
      ],
      "text/plain": [
       "             match_id  time      gold  top_gold  jgl_gold  mid_gold  adc_gold  \\\n",
       "0  001a1f289e3bab22_b   0.0 -1.342942 -1.326213 -1.387083 -1.341606 -1.320149   \n",
       "1  001a1f289e3bab22_b   1.0 -1.342244 -1.326213 -1.387083 -1.341606 -1.320149   \n",
       "2  001a1f289e3bab22_b   2.0 -1.327294 -1.313755 -1.368286 -1.330031 -1.308748   \n",
       "3  001a1f289e3bab22_b   3.0 -1.272434 -1.244472 -1.303596 -1.277439 -1.277944   \n",
       "4  001a1f289e3bab22_b   4.0 -1.212358 -1.189832 -1.234757 -1.213273 -1.219937   \n",
       "\n",
       "   sup_gold  kill_total  assist_total  opp_kill_total  opp_assist_total  \\\n",
       "0 -1.269691   -0.899995     -0.796908       -0.899995         -0.796908   \n",
       "1 -1.264782   -0.899995     -0.796908       -0.899995         -0.796908   \n",
       "2 -1.240890   -0.899995     -0.796908       -0.899995         -0.796908   \n",
       "3 -1.180998   -0.899995     -0.796908       -0.899995         -0.796908   \n",
       "4 -1.131251   -0.899995     -0.796908       -0.899995         -0.796908   \n",
       "\n",
       "   r_inhib_count  r_baron_count  r_tower_count  r_herald_count  r_drag_count  \\\n",
       "0      -1.742076      -2.271392      -1.401829       -2.768166     -1.835765   \n",
       "1      -1.742076      -2.271392      -1.401829       -2.768166     -1.835765   \n",
       "2      -1.742076      -2.271392      -1.401829       -2.768166     -1.835765   \n",
       "3      -1.742076      -2.271392      -1.401829       -2.768166     -1.835765   \n",
       "4      -1.742076      -2.271392      -1.401829       -2.768166     -1.835765   \n",
       "\n",
       "   b_inhib_count  b_baron_count  b_tower_count  b_herald_count  \\\n",
       "0      -1.735504       -2.43541      -1.461121       -2.877854   \n",
       "1      -1.735504       -2.43541      -1.461121       -2.877854   \n",
       "2      -1.735504       -2.43541      -1.461121       -2.877854   \n",
       "3      -1.735504       -2.43541      -1.461121       -2.877854   \n",
       "4      -1.735504       -2.43541      -1.461121       -2.877854   \n",
       "\n",
       "   b_dragon_count       kda   opp_kda  result  \n",
       "0       -1.885778 -0.712698 -0.712698     0.0  \n",
       "1       -1.885778 -0.712698 -0.712698     0.0  \n",
       "2       -1.885778 -0.712698 -0.712698     0.0  \n",
       "3       -1.885778 -0.712698 -0.712698     0.0  \n",
       "4       -1.885778 -0.712698 -0.712698     0.0  "
      ]
     },
     "execution_count": 15,
     "metadata": {},
     "output_type": "execute_result"
    }
   ],
   "source": [
    "sdf1 = sdf[fcols]\n",
    "sdf1.head()"
   ]
  },
  {
   "cell_type": "code",
   "execution_count": 16,
   "metadata": {
    "collapsed": false
   },
   "outputs": [
    {
     "data": {
      "text/plain": [
       "286844"
      ]
     },
     "execution_count": 16,
     "metadata": {},
     "output_type": "execute_result"
    }
   ],
   "source": [
    "len(sdf1)"
   ]
  },
  {
   "cell_type": "code",
   "execution_count": 17,
   "metadata": {
    "collapsed": false
   },
   "outputs": [],
   "source": [
    "# create X and y dataframes for training/testing\n",
    "X = sdf1.loc[:,sdf1.columns != 'result'].values\n",
    "y = sdf1.loc[:,sdf1.columns == 'result'].values\n",
    "groups = sdf1['match_id']"
   ]
  },
  {
   "cell_type": "code",
   "execution_count": 18,
   "metadata": {
    "collapsed": false
   },
   "outputs": [],
   "source": [
    "from sklearn.model_selection import GroupKFold\n",
    "# 80/20 split for train/test groups\n",
    "gkf = GroupKFold(n_splits=5)\n",
    "\n",
    "for train_index, test_index in gkf.split(X, y,groups):\n",
    "    X_train, X_test = X[train_index], X[test_index]\n",
    "    y_train, y_test = y[train_index], y[test_index]"
   ]
  },
  {
   "cell_type": "markdown",
   "metadata": {},
   "source": [
    "### Prepare Train Data"
   ]
  },
  {
   "cell_type": "code",
   "execution_count": 19,
   "metadata": {
    "collapsed": false
   },
   "outputs": [],
   "source": [
    "# reshape data to work with previously written parse_game function\n",
    "xtrain = pd.DataFrame(X_train)\n",
    "ytrain = pd.DataFrame(y_train)"
   ]
  },
  {
   "cell_type": "code",
   "execution_count": 20,
   "metadata": {
    "collapsed": false
   },
   "outputs": [
    {
     "name": "stdout",
     "output_type": "stream",
     "text": [
      "229486\n",
      "229486\n"
     ]
    }
   ],
   "source": [
    "print(len(ytrain))\n",
    "print(len(xtrain))"
   ]
  },
  {
   "cell_type": "code",
   "execution_count": 21,
   "metadata": {
    "collapsed": false
   },
   "outputs": [],
   "source": [
    "train_df = pd.merge(xtrain, ytrain, left_index=True, right_index=True)"
   ]
  },
  {
   "cell_type": "code",
   "execution_count": 22,
   "metadata": {
    "collapsed": true
   },
   "outputs": [],
   "source": [
    "train_df.rename(columns={'0_y':'result','0_x':'match_id'},inplace=True)"
   ]
  },
  {
   "cell_type": "code",
   "execution_count": 23,
   "metadata": {
    "collapsed": false
   },
   "outputs": [
    {
     "data": {
      "text/html": [
       "<div>\n",
       "<style>\n",
       "    .dataframe thead tr:only-child th {\n",
       "        text-align: right;\n",
       "    }\n",
       "\n",
       "    .dataframe thead th {\n",
       "        text-align: left;\n",
       "    }\n",
       "\n",
       "    .dataframe tbody tr th {\n",
       "        vertical-align: top;\n",
       "    }\n",
       "</style>\n",
       "<table border=\"1\" class=\"dataframe\">\n",
       "  <thead>\n",
       "    <tr style=\"text-align: right;\">\n",
       "      <th></th>\n",
       "      <th>match_id</th>\n",
       "      <th>1</th>\n",
       "      <th>2</th>\n",
       "      <th>3</th>\n",
       "      <th>4</th>\n",
       "      <th>5</th>\n",
       "      <th>6</th>\n",
       "      <th>7</th>\n",
       "      <th>8</th>\n",
       "      <th>9</th>\n",
       "      <th>10</th>\n",
       "      <th>11</th>\n",
       "      <th>12</th>\n",
       "      <th>13</th>\n",
       "      <th>14</th>\n",
       "      <th>15</th>\n",
       "      <th>16</th>\n",
       "      <th>17</th>\n",
       "      <th>18</th>\n",
       "      <th>19</th>\n",
       "      <th>20</th>\n",
       "      <th>21</th>\n",
       "      <th>22</th>\n",
       "      <th>23</th>\n",
       "      <th>result</th>\n",
       "    </tr>\n",
       "  </thead>\n",
       "  <tbody>\n",
       "    <tr>\n",
       "      <th>0</th>\n",
       "      <td>001a1f289e3bab22_b</td>\n",
       "      <td>0</td>\n",
       "      <td>-1.34294</td>\n",
       "      <td>-1.32621</td>\n",
       "      <td>-1.38708</td>\n",
       "      <td>-1.34161</td>\n",
       "      <td>-1.32015</td>\n",
       "      <td>-1.26969</td>\n",
       "      <td>-0.899995</td>\n",
       "      <td>-0.796908</td>\n",
       "      <td>-0.899995</td>\n",
       "      <td>-0.796908</td>\n",
       "      <td>-1.74208</td>\n",
       "      <td>-2.27139</td>\n",
       "      <td>-1.40183</td>\n",
       "      <td>-2.76817</td>\n",
       "      <td>-1.83577</td>\n",
       "      <td>-1.7355</td>\n",
       "      <td>-2.43541</td>\n",
       "      <td>-1.46112</td>\n",
       "      <td>-2.87785</td>\n",
       "      <td>-1.88578</td>\n",
       "      <td>-0.712698</td>\n",
       "      <td>-0.712698</td>\n",
       "      <td>0.0</td>\n",
       "    </tr>\n",
       "    <tr>\n",
       "      <th>1</th>\n",
       "      <td>001a1f289e3bab22_b</td>\n",
       "      <td>1</td>\n",
       "      <td>-1.34224</td>\n",
       "      <td>-1.32621</td>\n",
       "      <td>-1.38708</td>\n",
       "      <td>-1.34161</td>\n",
       "      <td>-1.32015</td>\n",
       "      <td>-1.26478</td>\n",
       "      <td>-0.899995</td>\n",
       "      <td>-0.796908</td>\n",
       "      <td>-0.899995</td>\n",
       "      <td>-0.796908</td>\n",
       "      <td>-1.74208</td>\n",
       "      <td>-2.27139</td>\n",
       "      <td>-1.40183</td>\n",
       "      <td>-2.76817</td>\n",
       "      <td>-1.83577</td>\n",
       "      <td>-1.7355</td>\n",
       "      <td>-2.43541</td>\n",
       "      <td>-1.46112</td>\n",
       "      <td>-2.87785</td>\n",
       "      <td>-1.88578</td>\n",
       "      <td>-0.712698</td>\n",
       "      <td>-0.712698</td>\n",
       "      <td>0.0</td>\n",
       "    </tr>\n",
       "    <tr>\n",
       "      <th>2</th>\n",
       "      <td>001a1f289e3bab22_b</td>\n",
       "      <td>2</td>\n",
       "      <td>-1.32729</td>\n",
       "      <td>-1.31376</td>\n",
       "      <td>-1.36829</td>\n",
       "      <td>-1.33003</td>\n",
       "      <td>-1.30875</td>\n",
       "      <td>-1.24089</td>\n",
       "      <td>-0.899995</td>\n",
       "      <td>-0.796908</td>\n",
       "      <td>-0.899995</td>\n",
       "      <td>-0.796908</td>\n",
       "      <td>-1.74208</td>\n",
       "      <td>-2.27139</td>\n",
       "      <td>-1.40183</td>\n",
       "      <td>-2.76817</td>\n",
       "      <td>-1.83577</td>\n",
       "      <td>-1.7355</td>\n",
       "      <td>-2.43541</td>\n",
       "      <td>-1.46112</td>\n",
       "      <td>-2.87785</td>\n",
       "      <td>-1.88578</td>\n",
       "      <td>-0.712698</td>\n",
       "      <td>-0.712698</td>\n",
       "      <td>0.0</td>\n",
       "    </tr>\n",
       "    <tr>\n",
       "      <th>3</th>\n",
       "      <td>001a1f289e3bab22_b</td>\n",
       "      <td>3</td>\n",
       "      <td>-1.27243</td>\n",
       "      <td>-1.24447</td>\n",
       "      <td>-1.3036</td>\n",
       "      <td>-1.27744</td>\n",
       "      <td>-1.27794</td>\n",
       "      <td>-1.181</td>\n",
       "      <td>-0.899995</td>\n",
       "      <td>-0.796908</td>\n",
       "      <td>-0.899995</td>\n",
       "      <td>-0.796908</td>\n",
       "      <td>-1.74208</td>\n",
       "      <td>-2.27139</td>\n",
       "      <td>-1.40183</td>\n",
       "      <td>-2.76817</td>\n",
       "      <td>-1.83577</td>\n",
       "      <td>-1.7355</td>\n",
       "      <td>-2.43541</td>\n",
       "      <td>-1.46112</td>\n",
       "      <td>-2.87785</td>\n",
       "      <td>-1.88578</td>\n",
       "      <td>-0.712698</td>\n",
       "      <td>-0.712698</td>\n",
       "      <td>0.0</td>\n",
       "    </tr>\n",
       "    <tr>\n",
       "      <th>4</th>\n",
       "      <td>001a1f289e3bab22_b</td>\n",
       "      <td>4</td>\n",
       "      <td>-1.21236</td>\n",
       "      <td>-1.18983</td>\n",
       "      <td>-1.23476</td>\n",
       "      <td>-1.21327</td>\n",
       "      <td>-1.21994</td>\n",
       "      <td>-1.13125</td>\n",
       "      <td>-0.899995</td>\n",
       "      <td>-0.796908</td>\n",
       "      <td>-0.899995</td>\n",
       "      <td>-0.796908</td>\n",
       "      <td>-1.74208</td>\n",
       "      <td>-2.27139</td>\n",
       "      <td>-1.40183</td>\n",
       "      <td>-2.76817</td>\n",
       "      <td>-1.83577</td>\n",
       "      <td>-1.7355</td>\n",
       "      <td>-2.43541</td>\n",
       "      <td>-1.46112</td>\n",
       "      <td>-2.87785</td>\n",
       "      <td>-1.88578</td>\n",
       "      <td>-0.712698</td>\n",
       "      <td>-0.712698</td>\n",
       "      <td>0.0</td>\n",
       "    </tr>\n",
       "  </tbody>\n",
       "</table>\n",
       "</div>"
      ],
      "text/plain": [
       "             match_id  1        2        3        4        5        6  \\\n",
       "0  001a1f289e3bab22_b  0 -1.34294 -1.32621 -1.38708 -1.34161 -1.32015   \n",
       "1  001a1f289e3bab22_b  1 -1.34224 -1.32621 -1.38708 -1.34161 -1.32015   \n",
       "2  001a1f289e3bab22_b  2 -1.32729 -1.31376 -1.36829 -1.33003 -1.30875   \n",
       "3  001a1f289e3bab22_b  3 -1.27243 -1.24447  -1.3036 -1.27744 -1.27794   \n",
       "4  001a1f289e3bab22_b  4 -1.21236 -1.18983 -1.23476 -1.21327 -1.21994   \n",
       "\n",
       "         7         8         9        10        11       12       13       14  \\\n",
       "0 -1.26969 -0.899995 -0.796908 -0.899995 -0.796908 -1.74208 -2.27139 -1.40183   \n",
       "1 -1.26478 -0.899995 -0.796908 -0.899995 -0.796908 -1.74208 -2.27139 -1.40183   \n",
       "2 -1.24089 -0.899995 -0.796908 -0.899995 -0.796908 -1.74208 -2.27139 -1.40183   \n",
       "3   -1.181 -0.899995 -0.796908 -0.899995 -0.796908 -1.74208 -2.27139 -1.40183   \n",
       "4 -1.13125 -0.899995 -0.796908 -0.899995 -0.796908 -1.74208 -2.27139 -1.40183   \n",
       "\n",
       "        15       16      17       18       19       20       21        22  \\\n",
       "0 -2.76817 -1.83577 -1.7355 -2.43541 -1.46112 -2.87785 -1.88578 -0.712698   \n",
       "1 -2.76817 -1.83577 -1.7355 -2.43541 -1.46112 -2.87785 -1.88578 -0.712698   \n",
       "2 -2.76817 -1.83577 -1.7355 -2.43541 -1.46112 -2.87785 -1.88578 -0.712698   \n",
       "3 -2.76817 -1.83577 -1.7355 -2.43541 -1.46112 -2.87785 -1.88578 -0.712698   \n",
       "4 -2.76817 -1.83577 -1.7355 -2.43541 -1.46112 -2.87785 -1.88578 -0.712698   \n",
       "\n",
       "         23  result  \n",
       "0 -0.712698     0.0  \n",
       "1 -0.712698     0.0  \n",
       "2 -0.712698     0.0  \n",
       "3 -0.712698     0.0  \n",
       "4 -0.712698     0.0  "
      ]
     },
     "execution_count": 23,
     "metadata": {},
     "output_type": "execute_result"
    }
   ],
   "source": [
    "train_df.sort_values(['match_id',1],inplace=True)\n",
    "train_df.head()"
   ]
  },
  {
   "cell_type": "markdown",
   "metadata": {},
   "source": [
    "### Prepare Test Data"
   ]
  },
  {
   "cell_type": "code",
   "execution_count": 24,
   "metadata": {
    "collapsed": false
   },
   "outputs": [
    {
     "name": "stdout",
     "output_type": "stream",
     "text": [
      "57358\n",
      "57358\n"
     ]
    }
   ],
   "source": [
    "xtest = pd.DataFrame(X_test)\n",
    "ytest = pd.DataFrame(y_test)\n",
    "print(len(xtest))\n",
    "print(len(ytest))"
   ]
  },
  {
   "cell_type": "code",
   "execution_count": 25,
   "metadata": {
    "collapsed": false
   },
   "outputs": [],
   "source": [
    "test_df = pd.merge(xtest, ytest, left_index=True, right_index=True)"
   ]
  },
  {
   "cell_type": "code",
   "execution_count": 26,
   "metadata": {
    "collapsed": false
   },
   "outputs": [
    {
     "data": {
      "text/html": [
       "<div>\n",
       "<style>\n",
       "    .dataframe thead tr:only-child th {\n",
       "        text-align: right;\n",
       "    }\n",
       "\n",
       "    .dataframe thead th {\n",
       "        text-align: left;\n",
       "    }\n",
       "\n",
       "    .dataframe tbody tr th {\n",
       "        vertical-align: top;\n",
       "    }\n",
       "</style>\n",
       "<table border=\"1\" class=\"dataframe\">\n",
       "  <thead>\n",
       "    <tr style=\"text-align: right;\">\n",
       "      <th></th>\n",
       "      <th>match_id</th>\n",
       "      <th>1</th>\n",
       "      <th>2</th>\n",
       "      <th>3</th>\n",
       "      <th>4</th>\n",
       "      <th>5</th>\n",
       "      <th>6</th>\n",
       "      <th>7</th>\n",
       "      <th>8</th>\n",
       "      <th>9</th>\n",
       "      <th>10</th>\n",
       "      <th>11</th>\n",
       "      <th>12</th>\n",
       "      <th>13</th>\n",
       "      <th>14</th>\n",
       "      <th>15</th>\n",
       "      <th>16</th>\n",
       "      <th>17</th>\n",
       "      <th>18</th>\n",
       "      <th>19</th>\n",
       "      <th>20</th>\n",
       "      <th>21</th>\n",
       "      <th>22</th>\n",
       "      <th>23</th>\n",
       "      <th>result</th>\n",
       "    </tr>\n",
       "  </thead>\n",
       "  <tbody>\n",
       "    <tr>\n",
       "      <th>0</th>\n",
       "      <td>001a1f289e3bab22_r</td>\n",
       "      <td>0</td>\n",
       "      <td>-1.34294</td>\n",
       "      <td>-1.32621</td>\n",
       "      <td>-1.38708</td>\n",
       "      <td>-1.34161</td>\n",
       "      <td>-1.32015</td>\n",
       "      <td>-1.26969</td>\n",
       "      <td>-0.899995</td>\n",
       "      <td>-0.796908</td>\n",
       "      <td>-0.899995</td>\n",
       "      <td>-0.796908</td>\n",
       "      <td>-0.865652</td>\n",
       "      <td>-2.27139</td>\n",
       "      <td>0.90352</td>\n",
       "      <td>-2.76817</td>\n",
       "      <td>1.59489</td>\n",
       "      <td>-1.7355</td>\n",
       "      <td>-2.43541</td>\n",
       "      <td>-0.500126</td>\n",
       "      <td>-2.87785</td>\n",
       "      <td>-1.00394</td>\n",
       "      <td>-0.712698</td>\n",
       "      <td>-0.712698</td>\n",
       "      <td>1.0</td>\n",
       "    </tr>\n",
       "    <tr>\n",
       "      <th>1</th>\n",
       "      <td>001a1f289e3bab22_r</td>\n",
       "      <td>1</td>\n",
       "      <td>-1.34294</td>\n",
       "      <td>-1.32621</td>\n",
       "      <td>-1.38708</td>\n",
       "      <td>-1.34161</td>\n",
       "      <td>-1.32015</td>\n",
       "      <td>-1.26969</td>\n",
       "      <td>-0.899995</td>\n",
       "      <td>-0.796908</td>\n",
       "      <td>-0.899995</td>\n",
       "      <td>-0.796908</td>\n",
       "      <td>-0.865652</td>\n",
       "      <td>-2.27139</td>\n",
       "      <td>0.90352</td>\n",
       "      <td>-2.76817</td>\n",
       "      <td>1.59489</td>\n",
       "      <td>-1.7355</td>\n",
       "      <td>-2.43541</td>\n",
       "      <td>-0.500126</td>\n",
       "      <td>-2.87785</td>\n",
       "      <td>-1.00394</td>\n",
       "      <td>-0.712698</td>\n",
       "      <td>-0.712698</td>\n",
       "      <td>1.0</td>\n",
       "    </tr>\n",
       "    <tr>\n",
       "      <th>2</th>\n",
       "      <td>001a1f289e3bab22_r</td>\n",
       "      <td>2</td>\n",
       "      <td>-1.32944</td>\n",
       "      <td>-1.31376</td>\n",
       "      <td>-1.37317</td>\n",
       "      <td>-1.33003</td>\n",
       "      <td>-1.30875</td>\n",
       "      <td>-1.2494</td>\n",
       "      <td>-0.899995</td>\n",
       "      <td>-0.796908</td>\n",
       "      <td>-0.899995</td>\n",
       "      <td>-0.796908</td>\n",
       "      <td>-0.865652</td>\n",
       "      <td>-2.27139</td>\n",
       "      <td>0.90352</td>\n",
       "      <td>-2.76817</td>\n",
       "      <td>1.59489</td>\n",
       "      <td>-1.7355</td>\n",
       "      <td>-2.43541</td>\n",
       "      <td>-0.500126</td>\n",
       "      <td>-2.87785</td>\n",
       "      <td>-1.00394</td>\n",
       "      <td>-0.712698</td>\n",
       "      <td>-0.712698</td>\n",
       "      <td>1.0</td>\n",
       "    </tr>\n",
       "    <tr>\n",
       "      <th>3</th>\n",
       "      <td>001a1f289e3bab22_r</td>\n",
       "      <td>3</td>\n",
       "      <td>-1.26624</td>\n",
       "      <td>-1.2648</td>\n",
       "      <td>-1.28114</td>\n",
       "      <td>-1.27033</td>\n",
       "      <td>-1.24794</td>\n",
       "      <td>-1.19769</td>\n",
       "      <td>-0.899995</td>\n",
       "      <td>-0.796908</td>\n",
       "      <td>-0.899995</td>\n",
       "      <td>-0.796908</td>\n",
       "      <td>-0.865652</td>\n",
       "      <td>-2.27139</td>\n",
       "      <td>0.90352</td>\n",
       "      <td>-2.76817</td>\n",
       "      <td>1.59489</td>\n",
       "      <td>-1.7355</td>\n",
       "      <td>-2.43541</td>\n",
       "      <td>-0.500126</td>\n",
       "      <td>-2.87785</td>\n",
       "      <td>-1.00394</td>\n",
       "      <td>-0.712698</td>\n",
       "      <td>-0.712698</td>\n",
       "      <td>1.0</td>\n",
       "    </tr>\n",
       "    <tr>\n",
       "      <th>4</th>\n",
       "      <td>001a1f289e3bab22_r</td>\n",
       "      <td>4</td>\n",
       "      <td>-1.20956</td>\n",
       "      <td>-1.20032</td>\n",
       "      <td>-1.22402</td>\n",
       "      <td>-1.22586</td>\n",
       "      <td>-1.18893</td>\n",
       "      <td>-1.14074</td>\n",
       "      <td>-0.899995</td>\n",
       "      <td>-0.796908</td>\n",
       "      <td>-0.899995</td>\n",
       "      <td>-0.796908</td>\n",
       "      <td>-0.865652</td>\n",
       "      <td>-2.27139</td>\n",
       "      <td>0.90352</td>\n",
       "      <td>-2.76817</td>\n",
       "      <td>1.59489</td>\n",
       "      <td>-1.7355</td>\n",
       "      <td>-2.43541</td>\n",
       "      <td>-0.500126</td>\n",
       "      <td>-2.87785</td>\n",
       "      <td>-1.00394</td>\n",
       "      <td>-0.712698</td>\n",
       "      <td>-0.712698</td>\n",
       "      <td>1.0</td>\n",
       "    </tr>\n",
       "  </tbody>\n",
       "</table>\n",
       "</div>"
      ],
      "text/plain": [
       "             match_id  1        2        3        4        5        6  \\\n",
       "0  001a1f289e3bab22_r  0 -1.34294 -1.32621 -1.38708 -1.34161 -1.32015   \n",
       "1  001a1f289e3bab22_r  1 -1.34294 -1.32621 -1.38708 -1.34161 -1.32015   \n",
       "2  001a1f289e3bab22_r  2 -1.32944 -1.31376 -1.37317 -1.33003 -1.30875   \n",
       "3  001a1f289e3bab22_r  3 -1.26624  -1.2648 -1.28114 -1.27033 -1.24794   \n",
       "4  001a1f289e3bab22_r  4 -1.20956 -1.20032 -1.22402 -1.22586 -1.18893   \n",
       "\n",
       "         7         8         9        10        11        12       13  \\\n",
       "0 -1.26969 -0.899995 -0.796908 -0.899995 -0.796908 -0.865652 -2.27139   \n",
       "1 -1.26969 -0.899995 -0.796908 -0.899995 -0.796908 -0.865652 -2.27139   \n",
       "2  -1.2494 -0.899995 -0.796908 -0.899995 -0.796908 -0.865652 -2.27139   \n",
       "3 -1.19769 -0.899995 -0.796908 -0.899995 -0.796908 -0.865652 -2.27139   \n",
       "4 -1.14074 -0.899995 -0.796908 -0.899995 -0.796908 -0.865652 -2.27139   \n",
       "\n",
       "        14       15       16      17       18        19       20       21  \\\n",
       "0  0.90352 -2.76817  1.59489 -1.7355 -2.43541 -0.500126 -2.87785 -1.00394   \n",
       "1  0.90352 -2.76817  1.59489 -1.7355 -2.43541 -0.500126 -2.87785 -1.00394   \n",
       "2  0.90352 -2.76817  1.59489 -1.7355 -2.43541 -0.500126 -2.87785 -1.00394   \n",
       "3  0.90352 -2.76817  1.59489 -1.7355 -2.43541 -0.500126 -2.87785 -1.00394   \n",
       "4  0.90352 -2.76817  1.59489 -1.7355 -2.43541 -0.500126 -2.87785 -1.00394   \n",
       "\n",
       "         22        23  result  \n",
       "0 -0.712698 -0.712698     1.0  \n",
       "1 -0.712698 -0.712698     1.0  \n",
       "2 -0.712698 -0.712698     1.0  \n",
       "3 -0.712698 -0.712698     1.0  \n",
       "4 -0.712698 -0.712698     1.0  "
      ]
     },
     "execution_count": 26,
     "metadata": {},
     "output_type": "execute_result"
    }
   ],
   "source": [
    "test_df.rename(columns={'0_y':'result','0_x':'match_id'},inplace=True)\n",
    "test_df.head()"
   ]
  },
  {
   "cell_type": "markdown",
   "metadata": {},
   "source": [
    "## Parse Game Data to Reformat for Neural Network"
   ]
  },
  {
   "cell_type": "code",
   "execution_count": 27,
   "metadata": {
    "collapsed": true
   },
   "outputs": [],
   "source": [
    "def parse_game(grp):\n",
    "    \"\"\"Input is a single groupby object\n",
    "    Output is a list of 3d arrays, each element contains 10 rows (which are equivalent to minutes \n",
    "       for this dataset). The function tracks the length of each group and stops at length minus 1. \n",
    "       After a group is finished the function performs the same process on the next group.\n",
    "    \"\"\"  \n",
    "    t = 10\n",
    "    start = 0\n",
    "   \n",
    "    length = len(grp)\n",
    "\n",
    "    while t < length:\n",
    "        \n",
    "        # take a 10 row chunk and convert it to array\n",
    "        \n",
    "        data = grp.iloc[:,2:-1][start:t].values\n",
    "   \n",
    "        df_list.append(data)\n",
    "        result_list.append(grp.iloc[:,-1:][start:t].values[0])\n",
    "        \n",
    "        # stop when t reaches length - 1\n",
    "        start += 1\n",
    "        t += 1\n",
    "    \n",
    "    return df_list  "
   ]
  },
  {
   "cell_type": "markdown",
   "metadata": {},
   "source": [
    "### Training Data"
   ]
  },
  {
   "cell_type": "code",
   "execution_count": 28,
   "metadata": {
    "collapsed": false
   },
   "outputs": [],
   "source": [
    "df_list = []\n",
    "result_list = []\n",
    "\n",
    "gb = train_df.groupby('match_id')\n",
    "\n",
    "gb.apply(lambda group: parse_game(group));"
   ]
  },
  {
   "cell_type": "code",
   "execution_count": 29,
   "metadata": {
    "collapsed": false
   },
   "outputs": [
    {
     "name": "stdout",
     "output_type": "stream",
     "text": [
      "169444\n",
      "169444\n"
     ]
    }
   ],
   "source": [
    "print(len(df_list))\n",
    "print(len(result_list))"
   ]
  },
  {
   "cell_type": "code",
   "execution_count": 30,
   "metadata": {
    "collapsed": true
   },
   "outputs": [],
   "source": [
    "num_features = 22\n",
    "time_steps = 10"
   ]
  },
  {
   "cell_type": "code",
   "execution_count": 31,
   "metadata": {
    "collapsed": true
   },
   "outputs": [],
   "source": [
    "# reshape y to 1d numpy array\n",
    "length_r = len(result_list)\n",
    "y_train = np.array(result_list)\n",
    "y_train = y_train.ravel()"
   ]
  },
  {
   "cell_type": "code",
   "execution_count": 32,
   "metadata": {
    "collapsed": true
   },
   "outputs": [],
   "source": [
    "# reshape x to 3d numpy array\n",
    "length = len(df_list)\n",
    "X_train = np.array(df_list)\n",
    "X_train = X_train.reshape((length, time_steps, num_features))"
   ]
  },
  {
   "cell_type": "markdown",
   "metadata": {},
   "source": [
    "### Test Data"
   ]
  },
  {
   "cell_type": "code",
   "execution_count": 33,
   "metadata": {
    "collapsed": true
   },
   "outputs": [],
   "source": [
    "def parse_game_test(grp):\n",
    "    \"\"\"Inputs are 1. a groupby group object\n",
    "    Output is a list of 3d arrays, each element contains 10 rows (which are equivalent to minutes \n",
    "       for this dataset). The function tracks the length of each group and stops at length minus 1. \n",
    "       After a group is finished the function performs the same process on the next group.\n",
    "    \"\"\"  \n",
    "    t = 10\n",
    "    start = 0\n",
    "   \n",
    "    length = len(grp)\n",
    "\n",
    "    while t < length:\n",
    "        \n",
    "        # take a 10 row chunk and convert it to array\n",
    "        \n",
    "        data = grp.iloc[:,2:-1][start:t].values\n",
    "   \n",
    "        df_list_test.append(data)\n",
    "        result_list_test.append(grp.iloc[:,-1:][start:t].values[0])\n",
    "        \n",
    "        # stop when t reaches length - 1\n",
    "        start += 1\n",
    "        t += 1\n",
    "    \n",
    "    return df_list  "
   ]
  },
  {
   "cell_type": "code",
   "execution_count": 34,
   "metadata": {
    "collapsed": false
   },
   "outputs": [],
   "source": [
    "df_list_test = []\n",
    "result_list_test = []\n",
    "\n",
    "gb = test_df.groupby('match_id')\n",
    "\n",
    "gb.apply(lambda group: parse_game_test(group));"
   ]
  },
  {
   "cell_type": "code",
   "execution_count": 35,
   "metadata": {
    "collapsed": false
   },
   "outputs": [
    {
     "name": "stdout",
     "output_type": "stream",
     "text": [
      "42376\n",
      "42376\n"
     ]
    }
   ],
   "source": [
    "print(len(df_list_test))\n",
    "print(len(result_list_test))"
   ]
  },
  {
   "cell_type": "code",
   "execution_count": 36,
   "metadata": {
    "collapsed": false
   },
   "outputs": [],
   "source": [
    "length_r = len(result_list_test)\n",
    "y_test = np.array(result_list_test)\n",
    "y_test = y_test.ravel()"
   ]
  },
  {
   "cell_type": "code",
   "execution_count": 37,
   "metadata": {
    "collapsed": false
   },
   "outputs": [],
   "source": [
    "length = len(df_list_test)\n",
    "X_test = np.array(df_list_test)\n",
    "X_test = X_test.reshape((length, time_steps, num_features))"
   ]
  },
  {
   "cell_type": "code",
   "execution_count": 38,
   "metadata": {
    "collapsed": false
   },
   "outputs": [
    {
     "name": "stdout",
     "output_type": "stream",
     "text": [
      "42376\n",
      "42376\n"
     ]
    }
   ],
   "source": [
    "print(len(X_test))\n",
    "print(len(y_test))"
   ]
  },
  {
   "cell_type": "markdown",
   "metadata": {
    "collapsed": true
   },
   "source": [
    "## Keras LSTM Model"
   ]
  },
  {
   "cell_type": "code",
   "execution_count": 39,
   "metadata": {
    "collapsed": false
   },
   "outputs": [
    {
     "name": "stderr",
     "output_type": "stream",
     "text": [
      "Using TensorFlow backend.\n"
     ]
    }
   ],
   "source": [
    "from keras.models import Sequential\n",
    "from keras.layers import Dense, Dropout\n",
    "from keras.layers import Embedding\n",
    "from keras.layers import LSTM\n",
    "from sklearn.model_selection import GridSearchCV\n",
    "from keras.wrappers.scikit_learn import KerasClassifier"
   ]
  },
  {
   "cell_type": "code",
   "execution_count": 121,
   "metadata": {
    "collapsed": false
   },
   "outputs": [
    {
     "name": "stdout",
     "output_type": "stream",
     "text": [
      "(169443, 10, 22)\n",
      "(169443,)\n",
      "(42376, 10, 22)\n",
      "(42376,)\n"
     ]
    }
   ],
   "source": [
    "print(X_train[:-1].shape)\n",
    "print(y_train[:-1].shape)\n",
    "print(X_test.shape)\n",
    "print(y_test.shape)"
   ]
  },
  {
   "cell_type": "code",
   "execution_count": 123,
   "metadata": {
    "collapsed": false,
    "scrolled": true
   },
   "outputs": [
    {
     "name": "stdout",
     "output_type": "stream",
     "text": [
      "Epoch 1/1\n",
      "169443/169443 [==============================] - 12s - loss: 0.7117 - acc: 0.5081    \n",
      "Epoch 1/1\n",
      "169443/169443 [==============================] - 10s - loss: 0.6943 - acc: 0.5289    \n",
      "Epoch 1/1\n",
      "169443/169443 [==============================] - 10s - loss: 0.6861 - acc: 0.5476    \n",
      "Epoch 1/1\n",
      "169443/169443 [==============================] - 11s - loss: 0.6819 - acc: 0.5557    \n",
      "Epoch 1/1\n",
      "169443/169443 [==============================] - 10s - loss: 0.6783 - acc: 0.5648    \n",
      "Epoch 1/1\n",
      "169443/169443 [==============================] - 10s - loss: 0.6749 - acc: 0.5712    \n",
      "Epoch 1/1\n",
      "169443/169443 [==============================] - 10s - loss: 0.6717 - acc: 0.5771    \n",
      "Epoch 1/1\n",
      "169443/169443 [==============================] - 10s - loss: 0.6682 - acc: 0.5842    \n",
      "Epoch 1/1\n",
      "169443/169443 [==============================] - 10s - loss: 0.6642 - acc: 0.5907    \n",
      "Epoch 1/1\n",
      "169443/169443 [==============================] - 10s - loss: 0.6597 - acc: 0.5960    \n"
     ]
    }
   ],
   "source": [
    "model = Sequential()\n",
    "model.add(LSTM(32, batch_input_shape=(18827, X_train[:-1].shape[1],X_train[:-1].shape[2]),\n",
    "               dropout=0.2, recurrent_dropout=0.2,stateful=True))\n",
    "#model.add(Dropout(0.2))\n",
    "model.add(Dense(1,activation='sigmoid'))\n",
    "\n",
    "model.compile(loss='binary_crossentropy',\n",
    "             optimizer='adam',\n",
    "             metrics=['accuracy'])\n",
    "for i in range(10):\n",
    "    model.fit(X_train[:-1], y_train[:-1], batch_size=18827,shuffle=False, epochs=1,verbose=1)\n",
    "    model.reset_states()"
   ]
  },
  {
   "cell_type": "code",
   "execution_count": null,
   "metadata": {
    "collapsed": false
   },
   "outputs": [],
   "source": [
    "score = model.evaluate(X_test[:-7], y_test[:-7], verbose=0,batch_size=17651)\n",
    "score"
   ]
  },
  {
   "cell_type": "code",
   "execution_count": null,
   "metadata": {
    "collapsed": false
   },
   "outputs": [],
   "source": [
    "model.metrics_names"
   ]
  },
  {
   "cell_type": "markdown",
   "metadata": {
    "collapsed": true
   },
   "source": [
    "## Keras GridSearch"
   ]
  },
  {
   "cell_type": "code",
   "execution_count": 39,
   "metadata": {
    "collapsed": false
   },
   "outputs": [],
   "source": [
    "from keras.models import Sequential\n",
    "from keras.layers import Dense, Dropout\n",
    "from keras.layers import Embedding\n",
    "from keras.layers import LSTM\n",
    "from sklearn.model_selection import GridSearchCV\n",
    "from keras.wrappers.scikit_learn import KerasClassifier"
   ]
  },
  {
   "cell_type": "code",
   "execution_count": 85,
   "metadata": {
    "collapsed": true
   },
   "outputs": [],
   "source": [
    "def create_model():\n",
    "    model = Sequential()\n",
    "    model.add(LSTM(32, batch_input_shape=(9410, X_train[:-64].shape[1],X_train[:-64].shape[2]),\n",
    "               stateful=True))\n",
    "    model.add(Dense(1,activation='sigmoid'))\n",
    "    model.compile(loss='binary_crossentropy',\n",
    "             optimizer='adam',\n",
    "             metrics=['accuracy'])\n",
    "    return model   "
   ]
  },
  {
   "cell_type": "code",
   "execution_count": 86,
   "metadata": {
    "collapsed": false
   },
   "outputs": [],
   "source": [
    "model = KerasClassifier(build_fn=create_model, verbose=0)"
   ]
  },
  {
   "cell_type": "code",
   "execution_count": 87,
   "metadata": {
    "collapsed": false
   },
   "outputs": [
    {
     "name": "stdout",
     "output_type": "stream",
     "text": [
      "169380\n",
      "169444\n"
     ]
    }
   ],
   "source": [
    "print(len(X_train[:-64]))\n",
    "print(len(y_train))"
   ]
  },
  {
   "cell_type": "code",
   "execution_count": 88,
   "metadata": {
    "collapsed": false
   },
   "outputs": [
    {
     "data": {
      "text/plain": [
       "(941, 4705, 9410)"
      ]
     },
     "execution_count": 88,
     "metadata": {},
     "output_type": "execute_result"
    }
   ],
   "source": [
    "169443/18827\n",
    "\n",
    "169380\n",
    "941,4705,9410"
   ]
  },
  {
   "cell_type": "code",
   "execution_count": 89,
   "metadata": {
    "collapsed": false
   },
   "outputs": [],
   "source": [
    "#batch_size = [1024, 2048, 4096]\n",
    "#epochs = [2, 4]\n",
    "batch_size = [9410]\n",
    "epochs = [4,8,12]\n",
    "param_grid = dict(batch_size=batch_size,epochs=epochs)\n",
    "\n",
    "grid = GridSearchCV(estimator=model,param_grid=param_grid)\n",
    "grid_result = grid.fit(X_train[:-64], y_train[:-64])"
   ]
  },
  {
   "cell_type": "code",
   "execution_count": 90,
   "metadata": {
    "collapsed": false
   },
   "outputs": [
    {
     "name": "stdout",
     "output_type": "stream",
     "text": [
      "Best: 0.554829 using {'batch_size': 9410, 'epochs': 12}\n",
      "0.504422 (0.026640) with: {'batch_size': 9410, 'epochs': 4}\n",
      "0.541168 (0.010379) with: {'batch_size': 9410, 'epochs': 8}\n",
      "0.554829 (0.024525) with: {'batch_size': 9410, 'epochs': 12}\n"
     ]
    }
   ],
   "source": [
    "print(\"Best: %f using %s\" % (grid_result.best_score_, grid_result.best_params_))\n",
    "means = grid_result.cv_results_['mean_test_score']\n",
    "stds = grid_result.cv_results_['std_test_score']\n",
    "params = grid_result.cv_results_['params']\n",
    "for mean, stdev, param in zip(means, stds, params):\n",
    "    print(\"%f (%f) with: %r\" % (mean, stdev, param))"
   ]
  },
  {
   "cell_type": "markdown",
   "metadata": {},
   "source": [
    "## Batch Size: 4705"
   ]
  },
  {
   "cell_type": "code",
   "execution_count": 92,
   "metadata": {
    "collapsed": true
   },
   "outputs": [],
   "source": [
    "def create_model():\n",
    "    model = Sequential()\n",
    "    model.add(LSTM(32, batch_input_shape=(4705, X_train[:-64].shape[1],X_train[:-64].shape[2]),\n",
    "               stateful=True))\n",
    "    model.add(Dense(1,activation='sigmoid'))\n",
    "    model.compile(loss='binary_crossentropy',\n",
    "             optimizer='adam',\n",
    "             metrics=['accuracy'])\n",
    "    return model"
   ]
  },
  {
   "cell_type": "code",
   "execution_count": 93,
   "metadata": {
    "collapsed": true
   },
   "outputs": [],
   "source": [
    "model = KerasClassifier(build_fn=create_model, verbose=0)"
   ]
  },
  {
   "cell_type": "code",
   "execution_count": 94,
   "metadata": {
    "collapsed": true
   },
   "outputs": [],
   "source": [
    "batch_size = [4705]\n",
    "epochs = [4,8,12]\n",
    "param_grid = dict(batch_size=batch_size,epochs=epochs)\n",
    "\n",
    "grid = GridSearchCV(estimator=model,param_grid=param_grid)\n",
    "grid_result = grid.fit(X_train[:-64], y_train[:-64])"
   ]
  },
  {
   "cell_type": "code",
   "execution_count": 95,
   "metadata": {
    "collapsed": false
   },
   "outputs": [
    {
     "name": "stdout",
     "output_type": "stream",
     "text": [
      "Best: 0.571744 using {'batch_size': 4705, 'epochs': 12}\n",
      "0.543494 (0.011077) with: {'batch_size': 4705, 'epochs': 4}\n",
      "0.559033 (0.025408) with: {'batch_size': 4705, 'epochs': 8}\n",
      "0.571744 (0.024775) with: {'batch_size': 4705, 'epochs': 12}\n"
     ]
    }
   ],
   "source": [
    "print(\"Best: %f using %s\" % (grid_result.best_score_, grid_result.best_params_))\n",
    "means = grid_result.cv_results_['mean_test_score']\n",
    "stds = grid_result.cv_results_['std_test_score']\n",
    "params = grid_result.cv_results_['params']\n",
    "for mean, stdev, param in zip(means, stds, params):\n",
    "    print(\"%f (%f) with: %r\" % (mean, stdev, param))"
   ]
  },
  {
   "cell_type": "markdown",
   "metadata": {},
   "source": [
    "## Batch Size: 941"
   ]
  },
  {
   "cell_type": "code",
   "execution_count": 44,
   "metadata": {
    "collapsed": true
   },
   "outputs": [],
   "source": [
    "def create_model():\n",
    "    model = Sequential()\n",
    "    model.add(LSTM(32, batch_input_shape=(941, X_train[:-64].shape[1],X_train[:-64].shape[2]),\n",
    "               stateful=True))\n",
    "    model.add(Dense(1,activation='sigmoid'))\n",
    "    model.compile(loss='binary_crossentropy',\n",
    "             optimizer='adam',\n",
    "             metrics=['accuracy'])\n",
    "    return model"
   ]
  },
  {
   "cell_type": "code",
   "execution_count": 45,
   "metadata": {
    "collapsed": true
   },
   "outputs": [],
   "source": [
    "model = KerasClassifier(build_fn=create_model, verbose=0)"
   ]
  },
  {
   "cell_type": "code",
   "execution_count": 46,
   "metadata": {
    "collapsed": false
   },
   "outputs": [],
   "source": [
    "batch_size = [941]\n",
    "epochs = [20,40,60]\n",
    "param_grid = dict(batch_size=batch_size,epochs=epochs)\n",
    "\n",
    "grid = GridSearchCV(estimator=model,param_grid=param_grid)\n",
    "grid_result = grid.fit(X_train[:-64], y_train[:-64])"
   ]
  },
  {
   "cell_type": "code",
   "execution_count": 47,
   "metadata": {
    "collapsed": false
   },
   "outputs": [
    {
     "name": "stdout",
     "output_type": "stream",
     "text": [
      "Best: 0.588511 using {'batch_size': 941, 'epochs': 20}\n",
      "0.588511 (0.038686) with: {'batch_size': 941, 'epochs': 20}\n",
      "0.583156 (0.035028) with: {'batch_size': 941, 'epochs': 40}\n",
      "0.580871 (0.040019) with: {'batch_size': 941, 'epochs': 60}\n"
     ]
    }
   ],
   "source": [
    "print(\"Best: %f using %s\" % (grid_result.best_score_, grid_result.best_params_))\n",
    "means = grid_result.cv_results_['mean_test_score']\n",
    "stds = grid_result.cv_results_['std_test_score']\n",
    "params = grid_result.cv_results_['params']\n",
    "for mean, stdev, param in zip(means, stds, params):\n",
    "    print(\"%f (%f) with: %r\" % (mean, stdev, param))"
   ]
  },
  {
   "cell_type": "markdown",
   "metadata": {
    "collapsed": true
   },
   "source": [
    "## Dense -> LSTM -> Out"
   ]
  },
  {
   "cell_type": "code",
   "execution_count": 48,
   "metadata": {
    "collapsed": false
   },
   "outputs": [
    {
     "name": "stdout",
     "output_type": "stream",
     "text": [
      "Epoch 1/1\n",
      "169380/169380 [==============================] - 12s - loss: 0.7020 - acc: 0.5313    \n",
      "Epoch 1/1\n",
      "169380/169380 [==============================] - 12s - loss: 0.6652 - acc: 0.5910    \n",
      "Epoch 1/1\n",
      "169380/169380 [==============================] - 12s - loss: 0.6467 - acc: 0.6068    \n",
      "Epoch 1/1\n",
      "169380/169380 [==============================] - 11s - loss: 0.6334 - acc: 0.6167    \n",
      "Epoch 1/1\n",
      "169380/169380 [==============================] - 12s - loss: 0.6252 - acc: 0.6234    \n",
      "Epoch 1/1\n",
      "169380/169380 [==============================] - 12s - loss: 0.6182 - acc: 0.6284    \n",
      "Epoch 1/1\n",
      "169380/169380 [==============================] - 12s - loss: 0.6121 - acc: 0.6326    \n",
      "Epoch 1/1\n",
      "169380/169380 [==============================] - 12s - loss: 0.6066 - acc: 0.6369    \n",
      "Epoch 1/1\n",
      "169380/169380 [==============================] - 11s - loss: 0.6017 - acc: 0.6412    \n",
      "Epoch 1/1\n",
      "169380/169380 [==============================] - 12s - loss: 0.5970 - acc: 0.6453    \n"
     ]
    }
   ],
   "source": [
    "model = Sequential()\n",
    "model.add(Dense(50,batch_input_shape=(4705, X_train[:-64].shape[1],X_train[:-64].shape[2])))\n",
    "model.add(LSTM(32, stateful=True))\n",
    "#model.add(Dropout(0.2))\n",
    "model.add(Dense(1,activation='sigmoid'))\n",
    "\n",
    "model.compile(loss='binary_crossentropy',\n",
    "             optimizer='adam',\n",
    "             metrics=['accuracy'])\n",
    "for i in range(10):\n",
    "    model.fit(X_train[:-64], y_train[:-64], batch_size=4705,shuffle=False, epochs=1,verbose=1)\n",
    "    model.reset_states()"
   ]
  },
  {
   "cell_type": "markdown",
   "metadata": {},
   "source": [
    "## LSTM -> Dense -> Out"
   ]
  },
  {
   "cell_type": "code",
   "execution_count": 50,
   "metadata": {
    "collapsed": false
   },
   "outputs": [
    {
     "name": "stdout",
     "output_type": "stream",
     "text": [
      "Epoch 1/1\n",
      "169380/169380 [==============================] - 15s - loss: 0.6992 - acc: 0.5533    \n",
      "Epoch 1/1\n",
      "169380/169380 [==============================] - 14s - loss: 0.6705 - acc: 0.5852    \n",
      "Epoch 1/1\n",
      "169380/169380 [==============================] - 14s - loss: 0.6538 - acc: 0.6025    \n",
      "Epoch 1/1\n",
      "169380/169380 [==============================] - 14s - loss: 0.6382 - acc: 0.6139    \n",
      "Epoch 1/1\n",
      "169380/169380 [==============================] - 14s - loss: 0.6274 - acc: 0.6221    \n",
      "Epoch 1/1\n",
      "169380/169380 [==============================] - 14s - loss: 0.6189 - acc: 0.6286    \n",
      "Epoch 1/1\n",
      "169380/169380 [==============================] - 14s - loss: 0.6120 - acc: 0.6337    \n",
      "Epoch 1/1\n",
      "169380/169380 [==============================] - 14s - loss: 0.6061 - acc: 0.6379    \n",
      "Epoch 1/1\n",
      "169380/169380 [==============================] - 14s - loss: 0.6007 - acc: 0.6423    \n",
      "Epoch 1/1\n",
      "169380/169380 [==============================] - 15s - loss: 0.5957 - acc: 0.6454    \n"
     ]
    }
   ],
   "source": [
    "model = Sequential()\n",
    "model.add(LSTM(50, batch_input_shape=(4705, X_train[:-64].shape[1],X_train[:-64].shape[2]),\n",
    "               return_sequences=False,stateful=True))\n",
    "model.add(Dense(26))\n",
    "model.add(Dense(1,activation='sigmoid'))\n",
    "\n",
    "model.compile(loss='binary_crossentropy',\n",
    "             optimizer='adam',\n",
    "             metrics=['accuracy'])\n",
    "for i in range(10):\n",
    "    model.fit(X_train[:-64], y_train[:-64], batch_size=4705,shuffle=False, epochs=1,verbose=1)\n",
    "    model.reset_states()"
   ]
  },
  {
   "cell_type": "code",
   "execution_count": 44,
   "metadata": {
    "collapsed": false
   },
   "outputs": [
    {
     "name": "stdout",
     "output_type": "stream",
     "text": [
      "Epoch 1/1\n",
      "169380/169380 [==============================] - 12s - loss: 0.7018 - acc: 0.5381    \n",
      "Epoch 1/1\n",
      "169380/169380 [==============================] - 11s - loss: 0.6707 - acc: 0.5904    \n",
      "Epoch 1/1\n",
      "169380/169380 [==============================] - 11s - loss: 0.6567 - acc: 0.6032    \n",
      "Epoch 1/1\n",
      "169380/169380 [==============================] - 11s - loss: 0.6421 - acc: 0.6108    \n",
      "Epoch 1/1\n",
      "169380/169380 [==============================] - 11s - loss: 0.6322 - acc: 0.6171    \n",
      "Epoch 1/1\n",
      "169380/169380 [==============================] - 11s - loss: 0.6246 - acc: 0.6217    \n",
      "Epoch 1/1\n",
      "169380/169380 [==============================] - 11s - loss: 0.6179 - acc: 0.6266    \n",
      "Epoch 1/1\n",
      "169380/169380 [==============================] - 11s - loss: 0.6120 - acc: 0.6308    \n",
      "Epoch 1/1\n",
      "169380/169380 [==============================] - 12s - loss: 0.6065 - acc: 0.6333    \n",
      "Epoch 1/1\n",
      "169380/169380 [==============================] - 11s - loss: 0.6015 - acc: 0.6362    \n"
     ]
    }
   ],
   "source": [
    "model = Sequential()\n",
    "model.add(LSTM(40, batch_input_shape=(4705, X_train[:-64].shape[1],X_train[:-64].shape[2]), stateful=True))\n",
    "model.add(Dense(25))\n",
    "model.add(Dense(1,activation='sigmoid'))\n",
    "\n",
    "model.compile(loss='binary_crossentropy',\n",
    "             optimizer='adam',\n",
    "             metrics=['accuracy'])\n",
    "for i in range(10):\n",
    "    model.fit(X_train[:-64], y_train[:-64], batch_size=4705,shuffle=False, epochs=1,verbose=1)\n",
    "    model.reset_states()"
   ]
  },
  {
   "cell_type": "markdown",
   "metadata": {},
   "source": [
    "## Dense -> LSTM -> Dense -> Out\n"
   ]
  },
  {
   "cell_type": "code",
   "execution_count": 45,
   "metadata": {
    "collapsed": false
   },
   "outputs": [
    {
     "name": "stdout",
     "output_type": "stream",
     "text": [
      "Epoch 1/1\n",
      "169380/169380 [==============================] - 11s - loss: 0.7018 - acc: 0.5301    \n",
      "Epoch 1/1\n",
      "169380/169380 [==============================] - 10s - loss: 0.6715 - acc: 0.5940    \n",
      "Epoch 1/1\n",
      "169380/169380 [==============================] - 11s - loss: 0.6488 - acc: 0.6113    \n",
      "Epoch 1/1\n",
      "169380/169380 [==============================] - 10s - loss: 0.6330 - acc: 0.6172    \n",
      "Epoch 1/1\n",
      "169380/169380 [==============================] - 11s - loss: 0.6263 - acc: 0.6198    \n",
      "Epoch 1/1\n",
      "169380/169380 [==============================] - 11s - loss: 0.6193 - acc: 0.6252    \n",
      "Epoch 1/1\n",
      "169380/169380 [==============================] - 11s - loss: 0.6141 - acc: 0.6275    \n",
      "Epoch 1/1\n",
      "169380/169380 [==============================] - 12s - loss: 0.6082 - acc: 0.6323    \n",
      "Epoch 1/1\n",
      "169380/169380 [==============================] - 11s - loss: 0.6033 - acc: 0.6361    \n",
      "Epoch 1/1\n",
      "169380/169380 [==============================] - 11s - loss: 0.5987 - acc: 0.6390    \n"
     ]
    }
   ],
   "source": [
    "model = Sequential()\n",
    "model.add(Dense(50,batch_input_shape=(4705, X_train[:-64].shape[1],X_train[:-64].shape[2])))\n",
    "model.add(LSTM(32, stateful=True))\n",
    "model.add(Dense(25))\n",
    "#model.add(Dropout(0.2))\n",
    "model.add(Dense(1,activation='sigmoid'))\n",
    "\n",
    "model.compile(loss='binary_crossentropy',\n",
    "             optimizer='adam',\n",
    "             metrics=['accuracy'])\n",
    "for i in range(10):\n",
    "    model.fit(X_train[:-64], y_train[:-64], batch_size=4705,shuffle=False, epochs=1,verbose=1)\n",
    "    model.reset_states()"
   ]
  },
  {
   "cell_type": "markdown",
   "metadata": {},
   "source": [
    "## Dense -> LSTM -> Out Further Tuning"
   ]
  },
  {
   "cell_type": "code",
   "execution_count": 51,
   "metadata": {
    "collapsed": false
   },
   "outputs": [
    {
     "name": "stdout",
     "output_type": "stream",
     "text": [
      "Epoch 1/1\n",
      "169380/169380 [==============================] - 12s - loss: 0.6749 - acc: 0.5743    \n",
      "Epoch 1/1\n",
      "169380/169380 [==============================] - 11s - loss: 0.6450 - acc: 0.6140    \n",
      "Epoch 1/1\n",
      "169380/169380 [==============================] - 11s - loss: 0.6236 - acc: 0.6302    \n",
      "Epoch 1/1\n",
      "169380/169380 [==============================] - 13s - loss: 0.6130 - acc: 0.6392    \n",
      "Epoch 1/1\n",
      "169380/169380 [==============================] - 12s - loss: 0.6046 - acc: 0.6452    \n",
      "Epoch 1/1\n",
      "169380/169380 [==============================] - 11s - loss: 0.5970 - acc: 0.6509    \n",
      "Epoch 1/1\n",
      "169380/169380 [==============================] - 11s - loss: 0.5902 - acc: 0.6561    \n",
      "Epoch 1/1\n",
      "169380/169380 [==============================] - 11s - loss: 0.5839 - acc: 0.6605    \n",
      "Epoch 1/1\n",
      "169380/169380 [==============================] - 11s - loss: 0.5780 - acc: 0.6652    \n",
      "Epoch 1/1\n",
      "169380/169380 [==============================] - 10s - loss: 0.5725 - acc: 0.6689    \n"
     ]
    }
   ],
   "source": [
    "model = Sequential()\n",
    "model.add(Dense(50,batch_input_shape=(4705, X_train[:-64].shape[1],X_train[:-64].shape[2])))\n",
    "model.add(LSTM(32, stateful=True))\n",
    "#model.add(Dropout(0.2))\n",
    "model.add(Dense(1,activation='sigmoid'))\n",
    "\n",
    "model.compile(loss='binary_crossentropy',\n",
    "             optimizer='rmsprop',\n",
    "             metrics=['accuracy'])\n",
    "for i in range(10):\n",
    "    model.fit(X_train[:-64], y_train[:-64], batch_size=4705,shuffle=False, epochs=1,verbose=1)\n",
    "    model.reset_states()"
   ]
  },
  {
   "cell_type": "code",
   "execution_count": 52,
   "metadata": {
    "collapsed": false
   },
   "outputs": [
    {
     "name": "stdout",
     "output_type": "stream",
     "text": [
      "Epoch 1/1\n",
      "169380/169380 [==============================] - 11s - loss: 0.6678 - acc: 0.5895    \n",
      "Epoch 1/1\n",
      "169380/169380 [==============================] - 11s - loss: 0.6394 - acc: 0.6230    \n",
      "Epoch 1/1\n",
      "169380/169380 [==============================] - 11s - loss: 0.6208 - acc: 0.6336    \n",
      "Epoch 1/1\n",
      "169380/169380 [==============================] - 11s - loss: 0.6110 - acc: 0.6393    \n",
      "Epoch 1/1\n",
      "169380/169380 [==============================] - 11s - loss: 0.6034 - acc: 0.6456    \n",
      "Epoch 1/1\n",
      "169380/169380 [==============================] - 11s - loss: 0.5970 - acc: 0.6500    \n",
      "Epoch 1/1\n",
      "169380/169380 [==============================] - 12s - loss: 0.5913 - acc: 0.6540    \n",
      "Epoch 1/1\n",
      "169380/169380 [==============================] - 11s - loss: 0.5859 - acc: 0.6579    \n",
      "Epoch 1/1\n",
      "169380/169380 [==============================] - 11s - loss: 0.5809 - acc: 0.6618    \n",
      "Epoch 1/1\n",
      "169380/169380 [==============================] - 11s - loss: 0.5763 - acc: 0.6658    \n"
     ]
    }
   ],
   "source": [
    "model = Sequential()\n",
    "model.add(Dense(50,batch_input_shape=(4705, X_train[:-64].shape[1],X_train[:-64].shape[2])))\n",
    "model.add(LSTM(32, stateful=True))\n",
    "#model.add(Dropout(0.2))\n",
    "model.add(Dense(1,activation='sigmoid'))\n",
    "\n",
    "model.compile(loss='binary_crossentropy',\n",
    "             optimizer='rmsprop',\n",
    "             metrics=['accuracy'])\n",
    "for i in range(10):\n",
    "    model.fit(X_train[:-64], y_train[:-64], batch_size=4705,shuffle=False, epochs=1,verbose=1)\n",
    "    #model.reset_states()"
   ]
  },
  {
   "cell_type": "markdown",
   "metadata": {},
   "source": [
    "## Tune Neurons in First Layer"
   ]
  },
  {
   "cell_type": "code",
   "execution_count": 61,
   "metadata": {
    "collapsed": true
   },
   "outputs": [],
   "source": [
    "def create_model(neurons=1):\n",
    "    model = Sequential()\n",
    "    model.add(Dense(neurons,batch_input_shape=(4705, X_train[:-64].shape[1],X_train[:-64].shape[2])))\n",
    "    model.add(LSTM(32, stateful=True))\n",
    "    model.add(Dense(1,activation='sigmoid'))\n",
    "    model.compile(loss='binary_crossentropy',\n",
    "             optimizer='rmsprop',\n",
    "             metrics=['accuracy'])\n",
    "    return model"
   ]
  },
  {
   "cell_type": "code",
   "execution_count": 62,
   "metadata": {
    "collapsed": true
   },
   "outputs": [],
   "source": [
    "model = KerasClassifier(build_fn=create_model, epochs=10, batch_size=4705, verbose=0)"
   ]
  },
  {
   "cell_type": "code",
   "execution_count": 63,
   "metadata": {
    "collapsed": false
   },
   "outputs": [],
   "source": [
    "neurons = [30, 40, 50]\n",
    "param_grid = dict(neurons=neurons)\n",
    "\n",
    "grid = GridSearchCV(estimator=model,param_grid=param_grid)\n",
    "grid_result = grid.fit(X_train[:-64], y_train[:-64])"
   ]
  },
  {
   "cell_type": "code",
   "execution_count": 64,
   "metadata": {
    "collapsed": false
   },
   "outputs": [
    {
     "name": "stdout",
     "output_type": "stream",
     "text": [
      "Best: 0.579035 using {'neurons': 50}\n",
      "0.567747 (0.030579) with: {'neurons': 30}\n",
      "0.574165 (0.033053) with: {'neurons': 40}\n",
      "0.579035 (0.027202) with: {'neurons': 50}\n"
     ]
    }
   ],
   "source": [
    "print(\"Best: %f using %s\" % (grid_result.best_score_, grid_result.best_params_))\n",
    "means = grid_result.cv_results_['mean_test_score']\n",
    "stds = grid_result.cv_results_['std_test_score']\n",
    "params = grid_result.cv_results_['params']\n",
    "for mean, stdev, param in zip(means, stds, params):\n",
    "    print(\"%f (%f) with: %r\" % (mean, stdev, param))"
   ]
  },
  {
   "cell_type": "code",
   "execution_count": null,
   "metadata": {
    "collapsed": true
   },
   "outputs": [],
   "source": []
  },
  {
   "cell_type": "code",
   "execution_count": null,
   "metadata": {
    "collapsed": true
   },
   "outputs": [],
   "source": []
  },
  {
   "cell_type": "markdown",
   "metadata": {},
   "source": [
    "## Dropout Rate"
   ]
  },
  {
   "cell_type": "code",
   "execution_count": 71,
   "metadata": {
    "collapsed": true
   },
   "outputs": [],
   "source": [
    "from keras.constraints import maxnorm\n",
    "def create_model(dropout_rate=0.0,weight_constraint=0):\n",
    "    model = Sequential()\n",
    "    model.add(Dense(50,batch_input_shape=(4705, X_train[:-64].shape[1],X_train[:-64].shape[2]),\n",
    "                   kernel_constraint=maxnorm(weight_constraint)))\n",
    "    model.add(Dropout(dropout_rate))\n",
    "    model.add(LSTM(32, stateful=True))\n",
    "    model.add(Dense(1,activation='sigmoid'))\n",
    "    model.compile(loss='binary_crossentropy',\n",
    "             optimizer='rmsprop',\n",
    "             metrics=['accuracy'])\n",
    "    return model"
   ]
  },
  {
   "cell_type": "code",
   "execution_count": 72,
   "metadata": {
    "collapsed": true
   },
   "outputs": [],
   "source": [
    "model = KerasClassifier(build_fn=create_model, epochs=10, batch_size=4705, verbose=0)"
   ]
  },
  {
   "cell_type": "code",
   "execution_count": 73,
   "metadata": {
    "collapsed": false
   },
   "outputs": [],
   "source": [
    "weight_constraint = [1, 2, 3, 4, 5]\n",
    "dropout_rate = [0.0, 0.1, 0.2, 0.3, 0.4, 0.5, 0.6, 0.7, 0.8, 0.9]\n",
    "param_grid = dict(weight_constraint=weight_constraint, dropout_rate=dropout_rate)\n",
    "\n",
    "grid = GridSearchCV(estimator=model,param_grid=param_grid)\n",
    "grid_result = grid.fit(X_train[:-64], y_train[:-64])"
   ]
  },
  {
   "cell_type": "code",
   "execution_count": 74,
   "metadata": {
    "collapsed": false
   },
   "outputs": [
    {
     "name": "stdout",
     "output_type": "stream",
     "text": [
      "Best: 0.581037 using {'weight_constraint': 2, 'dropout_rate': 0.0}\n",
      "0.569678 (0.029848) with: {'weight_constraint': 1, 'dropout_rate': 0.0}\n",
      "0.581037 (0.028838) with: {'weight_constraint': 2, 'dropout_rate': 0.0}\n",
      "0.575723 (0.029584) with: {'weight_constraint': 3, 'dropout_rate': 0.0}\n",
      "0.578138 (0.031781) with: {'weight_constraint': 4, 'dropout_rate': 0.0}\n",
      "0.577063 (0.032701) with: {'weight_constraint': 5, 'dropout_rate': 0.0}\n",
      "0.578120 (0.024221) with: {'weight_constraint': 1, 'dropout_rate': 0.1}\n",
      "0.574377 (0.026783) with: {'weight_constraint': 2, 'dropout_rate': 0.1}\n",
      "0.577229 (0.018072) with: {'weight_constraint': 3, 'dropout_rate': 0.1}\n",
      "0.578557 (0.033696) with: {'weight_constraint': 4, 'dropout_rate': 0.1}\n",
      "0.576993 (0.024729) with: {'weight_constraint': 5, 'dropout_rate': 0.1}\n",
      "0.580222 (0.021823) with: {'weight_constraint': 1, 'dropout_rate': 0.2}\n",
      "0.569264 (0.025963) with: {'weight_constraint': 2, 'dropout_rate': 0.2}\n",
      "0.574749 (0.026360) with: {'weight_constraint': 3, 'dropout_rate': 0.2}\n",
      "0.576030 (0.026424) with: {'weight_constraint': 4, 'dropout_rate': 0.2}\n",
      "0.569205 (0.026376) with: {'weight_constraint': 5, 'dropout_rate': 0.2}\n",
      "0.574070 (0.026888) with: {'weight_constraint': 1, 'dropout_rate': 0.3}\n",
      "0.571354 (0.024728) with: {'weight_constraint': 2, 'dropout_rate': 0.3}\n",
      "0.569849 (0.021778) with: {'weight_constraint': 3, 'dropout_rate': 0.3}\n",
      "0.576550 (0.025028) with: {'weight_constraint': 4, 'dropout_rate': 0.3}\n",
      "0.572122 (0.027855) with: {'weight_constraint': 5, 'dropout_rate': 0.3}\n",
      "0.573775 (0.019596) with: {'weight_constraint': 1, 'dropout_rate': 0.4}\n",
      "0.566413 (0.027149) with: {'weight_constraint': 2, 'dropout_rate': 0.4}\n",
      "0.566253 (0.025624) with: {'weight_constraint': 3, 'dropout_rate': 0.4}\n",
      "0.569630 (0.022816) with: {'weight_constraint': 4, 'dropout_rate': 0.4}\n",
      "0.570587 (0.024149) with: {'weight_constraint': 5, 'dropout_rate': 0.4}\n",
      "0.567151 (0.027451) with: {'weight_constraint': 1, 'dropout_rate': 0.5}\n",
      "0.567021 (0.027152) with: {'weight_constraint': 2, 'dropout_rate': 0.5}\n",
      "0.565445 (0.023136) with: {'weight_constraint': 3, 'dropout_rate': 0.5}\n",
      "0.562947 (0.021696) with: {'weight_constraint': 4, 'dropout_rate': 0.5}\n",
      "0.568213 (0.023944) with: {'weight_constraint': 5, 'dropout_rate': 0.5}\n",
      "0.563980 (0.020918) with: {'weight_constraint': 1, 'dropout_rate': 0.6}\n",
      "0.562286 (0.023155) with: {'weight_constraint': 2, 'dropout_rate': 0.6}\n",
      "0.558425 (0.027770) with: {'weight_constraint': 3, 'dropout_rate': 0.6}\n",
      "0.562428 (0.023718) with: {'weight_constraint': 4, 'dropout_rate': 0.6}\n",
      "0.558696 (0.025033) with: {'weight_constraint': 5, 'dropout_rate': 0.6}\n",
      "0.558230 (0.030569) with: {'weight_constraint': 1, 'dropout_rate': 0.7}\n",
      "0.556111 (0.030000) with: {'weight_constraint': 2, 'dropout_rate': 0.7}\n",
      "0.557055 (0.025785) with: {'weight_constraint': 3, 'dropout_rate': 0.7}\n",
      "0.557805 (0.030309) with: {'weight_constraint': 4, 'dropout_rate': 0.7}\n",
      "0.558466 (0.024180) with: {'weight_constraint': 5, 'dropout_rate': 0.7}\n",
      "0.545909 (0.024272) with: {'weight_constraint': 1, 'dropout_rate': 0.8}\n",
      "0.551665 (0.026496) with: {'weight_constraint': 2, 'dropout_rate': 0.8}\n",
      "0.546971 (0.025847) with: {'weight_constraint': 3, 'dropout_rate': 0.8}\n",
      "0.541676 (0.036035) with: {'weight_constraint': 4, 'dropout_rate': 0.8}\n",
      "0.545672 (0.032599) with: {'weight_constraint': 5, 'dropout_rate': 0.8}\n",
      "0.516708 (0.034426) with: {'weight_constraint': 1, 'dropout_rate': 0.9}\n",
      "0.520274 (0.027010) with: {'weight_constraint': 2, 'dropout_rate': 0.9}\n",
      "0.520410 (0.036179) with: {'weight_constraint': 3, 'dropout_rate': 0.9}\n",
      "0.516230 (0.031738) with: {'weight_constraint': 4, 'dropout_rate': 0.9}\n",
      "0.506630 (0.042739) with: {'weight_constraint': 5, 'dropout_rate': 0.9}\n"
     ]
    }
   ],
   "source": [
    "print(\"Best: %f using %s\" % (grid_result.best_score_, grid_result.best_params_))\n",
    "means = grid_result.cv_results_['mean_test_score']\n",
    "stds = grid_result.cv_results_['std_test_score']\n",
    "params = grid_result.cv_results_['params']\n",
    "for mean, stdev, param in zip(means, stds, params):\n",
    "    print(\"%f (%f) with: %r\" % (mean, stdev, param))"
   ]
  },
  {
   "cell_type": "code",
   "execution_count": null,
   "metadata": {
    "collapsed": true
   },
   "outputs": [],
   "source": []
  }
 ],
 "metadata": {
  "anaconda-cloud": {},
  "kernelspec": {
   "display_name": "Python [conda env:py3DataScience]",
   "language": "python",
   "name": "conda-env-py3DataScience-py"
  },
  "language_info": {
   "codemirror_mode": {
    "name": "ipython",
    "version": 3
   },
   "file_extension": ".py",
   "mimetype": "text/x-python",
   "name": "python",
   "nbconvert_exporter": "python",
   "pygments_lexer": "ipython3",
   "version": "3.5.3"
  }
 },
 "nbformat": 4,
 "nbformat_minor": 1
}
